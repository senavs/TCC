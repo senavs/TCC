{
 "cells": [
  {
   "cell_type": "code",
   "execution_count": 1,
   "id": "ac21a16d",
   "metadata": {},
   "outputs": [],
   "source": [
    "import os\n",
    "\n",
    "import cv2\n",
    "import numpy as np\n",
    "import matplotlib.pyplot as plt"
   ]
  },
  {
   "cell_type": "code",
   "execution_count": 12,
   "id": "a132fce2",
   "metadata": {},
   "outputs": [],
   "source": [
    "# dataset from https://www.kaggle.com/sagyamthapa/handwritten-math-symbols\n",
    "DATASET_PATH = '/home/sena/Downloads/archive/dataset'\n",
    "OUTPUT_IMAGE_PATH = '../dataset/images/operators/{folder}/{file}'\n",
    "OUTPUT_IMAGE_PX = 28\n",
    "DPI = 96"
   ]
  },
  {
   "cell_type": "code",
   "execution_count": 13,
   "id": "8aa350ed",
   "metadata": {},
   "outputs": [
    {
     "name": "stdout",
     "output_type": "stream",
     "text": [
      "Figure(28x28) AxesSubplot(0.125,0.125;0.775x0.755)\n"
     ]
    },
    {
     "data": {
      "image/png": "[encoded data removed]",
      "text/plain": [
       "<Figure size 28x28 with 1 Axes>"
      ]
     },
     "metadata": {
      "needs_background": "light"
     },
     "output_type": "display_data"
    }
   ],
   "source": [
    "figure = plt.figure(figsize=(OUTPUT_IMAGE_PX / DPI, OUTPUT_IMAGE_PX / DPI), dpi=DPI)\n",
    "axis = plt.subplot(1, 1, 1)\n",
    "print(figure, axis)"
   ]
  },
  {
   "cell_type": "code",
   "execution_count": 31,
   "id": "e09006dc",
   "metadata": {},
   "outputs": [],
   "source": [
    "def draw_and_save(image: np.ndarray, folder_name: str, file_name: str):\n",
    "    axis.cla()\n",
    "    axis.axis('off')\n",
    "    axis.imshow(image, cmap='gray')\n",
    "    \n",
    "    output_path = OUTPUT_IMAGE_PATH.format(folder=folder_name, file=file_name)\n",
    "    os.makedirs(os.path.dirname(output_path), exist_ok=True)\n",
    "    \n",
    "    figure.savefig(OUTPUT_IMAGE_PATH.format(folder=folder_name, file=file_name))"
   ]
  },
  {
   "cell_type": "code",
   "execution_count": 33,
   "id": "b09dac32",
   "metadata": {},
   "outputs": [],
   "source": [
    "for folder in os.listdir(DATASET_PATH):\n",
    "    # getting only operators\n",
    "    if folder.isdigit() or folder.startswith('.'):\n",
    "        continue\n",
    "    \n",
    "    folder_path = os.path.join(DATASET_PATH, folder)\n",
    "    files = os.listdir(folder_path)\n",
    "    \n",
    "    for i, file in enumerate(files, start=1):\n",
    "        file_path = os.path.join(folder_path, file)\n",
    "        \n",
    "        image = cv2.imread(file_path, cv2.IMREAD_GRAYSCALE)\n",
    "        draw_and_save(image, folder, f'{i:0>5}.jpg')"
   ]
  },
  {
   "cell_type": "code",
   "execution_count": null,
   "id": "dc2a05a0",
   "metadata": {},
   "outputs": [],
   "source": []
  }
 ],
 "metadata": {
  "kernelspec": {
   "display_name": "Python 3 (ipykernel)",
   "language": "python",
   "name": "python3"
  },
  "language_info": {
   "codemirror_mode": {
    "name": "ipython",
    "version": 3
   },
   "file_extension": ".py",
   "mimetype": "text/x-python",
   "name": "python",
   "nbconvert_exporter": "python",
   "pygments_lexer": "ipython3",
   "version": "3.9.6"
  }
 },
 "nbformat": 4,
 "nbformat_minor": 5
}
