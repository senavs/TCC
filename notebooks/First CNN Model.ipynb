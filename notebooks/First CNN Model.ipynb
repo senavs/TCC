{
 "cells": [
  {
   "cell_type": "markdown",
   "id": "35a9f52f",
   "metadata": {},
   "source": [
    "# First model"
   ]
  },
  {
   "cell_type": "markdown",
   "id": "d9af7411",
   "metadata": {},
   "source": [
    "## Imports"
   ]
  },
  {
   "cell_type": "code",
   "execution_count": 1,
   "id": "29fd00ea",
   "metadata": {},
   "outputs": [],
   "source": [
    "import random\n",
    "import os\n",
    "\n",
    "import cv2\n",
    "import matplotlib.pyplot as plt\n",
    "import numpy as np\n",
    "import tensorflow as tf\n",
    "from keras.backend import clear_session\n",
    "from keras.layers import Input, Conv2D, MaxPooling2D, Dense, Flatten, Dropout\n",
    "from keras.models import Model"
   ]
  },
  {
   "cell_type": "code",
   "execution_count": 2,
   "id": "352c1629",
   "metadata": {},
   "outputs": [
    {
     "name": "stdout",
     "output_type": "stream",
     "text": [
      "Num GPUs Available:  1\n"
     ]
    },
    {
     "name": "stderr",
     "output_type": "stream",
     "text": [
      "2021-08-27 21:35:40.266750: I tensorflow/stream_executor/cuda/cuda_gpu_executor.cc:937] successful NUMA node read from SysFS had negative value (-1), but there must be at least one NUMA node, so returning NUMA node zero\n",
      "2021-08-27 21:35:40.270879: I tensorflow/stream_executor/cuda/cuda_gpu_executor.cc:937] successful NUMA node read from SysFS had negative value (-1), but there must be at least one NUMA node, so returning NUMA node zero\n",
      "2021-08-27 21:35:40.271169: I tensorflow/stream_executor/cuda/cuda_gpu_executor.cc:937] successful NUMA node read from SysFS had negative value (-1), but there must be at least one NUMA node, so returning NUMA node zero\n"
     ]
    }
   ],
   "source": [
    "print(\"Num GPUs Available: \", len(tf.config.list_physical_devices('GPU')))"
   ]
  },
  {
   "cell_type": "code",
   "execution_count": 3,
   "id": "1dbb184e",
   "metadata": {},
   "outputs": [],
   "source": [
    "TRAIN_DATASET_PATH = '../dataset/images/train/'\n",
    "TEST_DATASET_PATH = '../dataset/images/test/'"
   ]
  },
  {
   "cell_type": "code",
   "execution_count": 4,
   "id": "dc588520",
   "metadata": {},
   "outputs": [],
   "source": [
    "TARGET_DECODED = {\n",
    "    0: '0',\n",
    "    1: '1',\n",
    "    2: '2',\n",
    "    3: '3',\n",
    "    4: '4',\n",
    "    5: '5',\n",
    "    6: '6',\n",
    "    7: '7',\n",
    "    8: '8',\n",
    "    9: '9',\n",
    "    10: '+',\n",
    "    11: '-',\n",
    "    12: '*',\n",
    "    13: '/',\n",
    "}"
   ]
  },
  {
   "cell_type": "markdown",
   "id": "967b60c8",
   "metadata": {},
   "source": [
    "## Load dataset"
   ]
  },
  {
   "cell_type": "code",
   "execution_count": 5,
   "id": "3a640342",
   "metadata": {},
   "outputs": [],
   "source": [
    "def load_data(dataset_type: str):\n",
    "    if dataset_type.lower() == 'train':\n",
    "        dataset_path = TRAIN_DATASET_PATH\n",
    "    elif dataset_type.lower() == 'test':\n",
    "        dataset_path = TEST_DATASET_PATH\n",
    "    else:\n",
    "        raise RuntimeError('Invalid dataset_type')\n",
    "        \n",
    "    x, y = [], []\n",
    "    for file_name in os.listdir(dataset_path):\n",
    "        file_path = os.path.join(dataset_path, file_name)\n",
    "        \n",
    "        target = int(os.path.splitext(file_name)[0].split('-')[1])\n",
    "        image = cv2.imread(file_path, cv2.IMREAD_GRAYSCALE)\n",
    "        \n",
    "        x.append(image)\n",
    "        y.append(target)\n",
    "    return np.array(x), np.array(y)"
   ]
  },
  {
   "cell_type": "code",
   "execution_count": 6,
   "id": "3cab474e",
   "metadata": {},
   "outputs": [],
   "source": [
    "x_train, y_train = load_data('train')"
   ]
  },
  {
   "cell_type": "code",
   "execution_count": 7,
   "id": "8c9ec953",
   "metadata": {},
   "outputs": [],
   "source": [
    "x_test, y_test = load_data('test')"
   ]
  },
  {
   "cell_type": "code",
   "execution_count": 8,
   "id": "73726914",
   "metadata": {},
   "outputs": [],
   "source": [
    "x_train = x_train[:, np.newaxis, :] / 255.\n",
    "x_test = x_test[:, np.newaxis, :] / 255."
   ]
  },
  {
   "cell_type": "markdown",
   "id": "82e1a988",
   "metadata": {},
   "source": [
    "## Model"
   ]
  },
  {
   "cell_type": "code",
   "execution_count": 9,
   "id": "c19a2222",
   "metadata": {},
   "outputs": [],
   "source": [
    "def build_model() -> Model:\n",
    "    input_ = Input(shape=(1, 28, 28))\n",
    "    \n",
    "    conv1 = Conv2D(64, kernel_size=(3, 3), padding='same', activation='relu')(input_)\n",
    "    maxp2 = MaxPooling2D(pool_size=(2, 2), padding='same')(conv1)\n",
    "    drop1 = Dropout(0.25)(maxp2)\n",
    "\n",
    "    flat1 = Flatten()(drop1)\n",
    "    \n",
    "    dens1 = Dense(128, activation='relu')(flat1)\n",
    "    drop2 = Dropout(0.5)(dens1)\n",
    "    outp1 = Dense(len(TARGET_DECODED), activation='softmax')(drop2)\n",
    "    \n",
    "    \n",
    "    model = Model(input_, outp1)\n",
    "    model.compile(loss='sparse_categorical_crossentropy', optimizer='adam',metrics=[\"accuracy\"])\n",
    "    \n",
    "    return model"
   ]
  },
  {
   "cell_type": "code",
   "execution_count": 10,
   "id": "fd72c6e7",
   "metadata": {},
   "outputs": [
    {
     "name": "stderr",
     "output_type": "stream",
     "text": [
      "2021-08-27 21:35:53.803219: I tensorflow/core/platform/cpu_feature_guard.cc:142] This TensorFlow binary is optimized with oneAPI Deep Neural Network Library (oneDNN) to use the following CPU instructions in performance-critical operations:  AVX2 FMA\n",
      "To enable them in other operations, rebuild TensorFlow with the appropriate compiler flags.\n",
      "2021-08-27 21:35:53.803605: I tensorflow/stream_executor/cuda/cuda_gpu_executor.cc:937] successful NUMA node read from SysFS had negative value (-1), but there must be at least one NUMA node, so returning NUMA node zero\n",
      "2021-08-27 21:35:53.803950: I tensorflow/stream_executor/cuda/cuda_gpu_executor.cc:937] successful NUMA node read from SysFS had negative value (-1), but there must be at least one NUMA node, so returning NUMA node zero\n",
      "2021-08-27 21:35:53.804234: I tensorflow/stream_executor/cuda/cuda_gpu_executor.cc:937] successful NUMA node read from SysFS had negative value (-1), but there must be at least one NUMA node, so returning NUMA node zero\n",
      "2021-08-27 21:35:54.100433: I tensorflow/stream_executor/cuda/cuda_gpu_executor.cc:937] successful NUMA node read from SysFS had negative value (-1), but there must be at least one NUMA node, so returning NUMA node zero\n",
      "2021-08-27 21:35:54.100739: I tensorflow/stream_executor/cuda/cuda_gpu_executor.cc:937] successful NUMA node read from SysFS had negative value (-1), but there must be at least one NUMA node, so returning NUMA node zero\n",
      "2021-08-27 21:35:54.101010: I tensorflow/stream_executor/cuda/cuda_gpu_executor.cc:937] successful NUMA node read from SysFS had negative value (-1), but there must be at least one NUMA node, so returning NUMA node zero\n",
      "2021-08-27 21:35:54.101262: I tensorflow/core/common_runtime/gpu/gpu_device.cc:1510] Created device /job:localhost/replica:0/task:0/device:GPU:0 with 4454 MB memory:  -> device: 0, name: NVIDIA GeForce RTX 2060, pci bus id: 0000:06:00.0, compute capability: 7.5\n"
     ]
    }
   ],
   "source": [
    "clear_session()\n",
    "model = build_model()"
   ]
  },
  {
   "cell_type": "code",
   "execution_count": 11,
   "id": "f1d30f8e",
   "metadata": {},
   "outputs": [
    {
     "name": "stdout",
     "output_type": "stream",
     "text": [
      "Model: \"model\"\n",
      "_________________________________________________________________\n",
      "Layer (type)                 Output Shape              Param #   \n",
      "=================================================================\n",
      "input_1 (InputLayer)         [(None, 1, 28, 28)]       0         \n",
      "_________________________________________________________________\n",
      "conv2d (Conv2D)              (None, 1, 28, 64)         16192     \n",
      "_________________________________________________________________\n",
      "max_pooling2d (MaxPooling2D) (None, 1, 14, 64)         0         \n",
      "_________________________________________________________________\n",
      "dropout (Dropout)            (None, 1, 14, 64)         0         \n",
      "_________________________________________________________________\n",
      "flatten (Flatten)            (None, 896)               0         \n",
      "_________________________________________________________________\n",
      "dense (Dense)                (None, 128)               114816    \n",
      "_________________________________________________________________\n",
      "dropout_1 (Dropout)          (None, 128)               0         \n",
      "_________________________________________________________________\n",
      "dense_1 (Dense)              (None, 14)                1806      \n",
      "=================================================================\n",
      "Total params: 132,814\n",
      "Trainable params: 132,814\n",
      "Non-trainable params: 0\n",
      "_________________________________________________________________\n"
     ]
    }
   ],
   "source": [
    "model.summary()"
   ]
  },
  {
   "cell_type": "markdown",
   "id": "c8ceb6c3",
   "metadata": {},
   "source": [
    "## Fit"
   ]
  },
  {
   "cell_type": "code",
   "execution_count": 12,
   "id": "3dfa6888",
   "metadata": {
    "scrolled": true
   },
   "outputs": [
    {
     "name": "stderr",
     "output_type": "stream",
     "text": [
      "2021-08-27 21:36:00.124118: I tensorflow/compiler/mlir/mlir_graph_optimization_pass.cc:185] None of the MLIR Optimization Passes are enabled (registered 2)\n"
     ]
    },
    {
     "name": "stdout",
     "output_type": "stream",
     "text": [
      "Epoch 1/50\n"
     ]
    },
    {
     "name": "stderr",
     "output_type": "stream",
     "text": [
      "2021-08-27 21:36:00.660097: I tensorflow/stream_executor/cuda/cuda_dnn.cc:369] Loaded cuDNN version 8201\n"
     ]
    },
    {
     "name": "stdout",
     "output_type": "stream",
     "text": [
      "79/79 [==============================] - 1s 2ms/step - loss: 1.9192 - accuracy: 0.4268 - val_loss: 0.9438 - val_accuracy: 0.7509\n",
      "Epoch 2/50\n",
      "79/79 [==============================] - 0s 1ms/step - loss: 0.9447 - accuracy: 0.6839 - val_loss: 0.6300 - val_accuracy: 0.8007\n",
      "Epoch 3/50\n",
      "79/79 [==============================] - 0s 1ms/step - loss: 0.7105 - accuracy: 0.7631 - val_loss: 0.5098 - val_accuracy: 0.8256\n",
      "Epoch 4/50\n",
      "79/79 [==============================] - 0s 1ms/step - loss: 0.6084 - accuracy: 0.7931 - val_loss: 0.4385 - val_accuracy: 0.8541\n",
      "Epoch 5/50\n",
      "79/79 [==============================] - 0s 1ms/step - loss: 0.5272 - accuracy: 0.8145 - val_loss: 0.3883 - val_accuracy: 0.8790\n",
      "Epoch 6/50\n",
      "79/79 [==============================] - 0s 1ms/step - loss: 0.4617 - accuracy: 0.8370 - val_loss: 0.3634 - val_accuracy: 0.8683\n",
      "Epoch 7/50\n",
      "79/79 [==============================] - 0s 1ms/step - loss: 0.4228 - accuracy: 0.8552 - val_loss: 0.3234 - val_accuracy: 0.8754\n",
      "Epoch 8/50\n",
      "79/79 [==============================] - 0s 1ms/step - loss: 0.3669 - accuracy: 0.8778 - val_loss: 0.2937 - val_accuracy: 0.9004\n",
      "Epoch 9/50\n",
      "79/79 [==============================] - 0s 1ms/step - loss: 0.3400 - accuracy: 0.8837 - val_loss: 0.2814 - val_accuracy: 0.9039\n",
      "Epoch 10/50\n",
      "79/79 [==============================] - 0s 1ms/step - loss: 0.3192 - accuracy: 0.8944 - val_loss: 0.2542 - val_accuracy: 0.9075\n",
      "Epoch 11/50\n",
      "79/79 [==============================] - 0s 1ms/step - loss: 0.2815 - accuracy: 0.9086 - val_loss: 0.2390 - val_accuracy: 0.9217\n",
      "Epoch 12/50\n",
      "79/79 [==============================] - 0s 1ms/step - loss: 0.2682 - accuracy: 0.9110 - val_loss: 0.2223 - val_accuracy: 0.9288\n",
      "Epoch 13/50\n",
      "79/79 [==============================] - 0s 1ms/step - loss: 0.2384 - accuracy: 0.9288 - val_loss: 0.2310 - val_accuracy: 0.9146\n",
      "Epoch 14/50\n",
      "79/79 [==============================] - 0s 1ms/step - loss: 0.2339 - accuracy: 0.9205 - val_loss: 0.2085 - val_accuracy: 0.9146\n",
      "Epoch 15/50\n",
      "79/79 [==============================] - 0s 1ms/step - loss: 0.2037 - accuracy: 0.9280 - val_loss: 0.2022 - val_accuracy: 0.9181\n",
      "Epoch 16/50\n",
      "79/79 [==============================] - 0s 1ms/step - loss: 0.1811 - accuracy: 0.9438 - val_loss: 0.1635 - val_accuracy: 0.9288\n",
      "Epoch 17/50\n",
      "79/79 [==============================] - 0s 1ms/step - loss: 0.1804 - accuracy: 0.9391 - val_loss: 0.1812 - val_accuracy: 0.9359\n",
      "Epoch 18/50\n",
      "79/79 [==============================] - 0s 1ms/step - loss: 0.1777 - accuracy: 0.9347 - val_loss: 0.1906 - val_accuracy: 0.9359\n",
      "Epoch 19/50\n",
      "79/79 [==============================] - 0s 1ms/step - loss: 0.1638 - accuracy: 0.9454 - val_loss: 0.1719 - val_accuracy: 0.9395\n",
      "Epoch 20/50\n",
      "79/79 [==============================] - 0s 1ms/step - loss: 0.1478 - accuracy: 0.9506 - val_loss: 0.1633 - val_accuracy: 0.9466\n",
      "Epoch 21/50\n",
      "79/79 [==============================] - 0s 1ms/step - loss: 0.1402 - accuracy: 0.9517 - val_loss: 0.1549 - val_accuracy: 0.9395\n",
      "Epoch 22/50\n",
      "79/79 [==============================] - 0s 1ms/step - loss: 0.1446 - accuracy: 0.9470 - val_loss: 0.1567 - val_accuracy: 0.9502\n",
      "Epoch 23/50\n",
      "79/79 [==============================] - 0s 1ms/step - loss: 0.1311 - accuracy: 0.9569 - val_loss: 0.1406 - val_accuracy: 0.9431\n",
      "Epoch 24/50\n",
      "79/79 [==============================] - 0s 1ms/step - loss: 0.1293 - accuracy: 0.9593 - val_loss: 0.1536 - val_accuracy: 0.9395\n",
      "Epoch 25/50\n",
      "79/79 [==============================] - 0s 1ms/step - loss: 0.1222 - accuracy: 0.9640 - val_loss: 0.1332 - val_accuracy: 0.9395\n",
      "Epoch 26/50\n",
      "79/79 [==============================] - 0s 1ms/step - loss: 0.1171 - accuracy: 0.9593 - val_loss: 0.1541 - val_accuracy: 0.9431\n",
      "Epoch 27/50\n",
      "79/79 [==============================] - 0s 1ms/step - loss: 0.1223 - accuracy: 0.9581 - val_loss: 0.1274 - val_accuracy: 0.9573\n",
      "Epoch 28/50\n",
      "79/79 [==============================] - 0s 1ms/step - loss: 0.1009 - accuracy: 0.9703 - val_loss: 0.1421 - val_accuracy: 0.9431\n",
      "Epoch 29/50\n",
      "79/79 [==============================] - 0s 1ms/step - loss: 0.1104 - accuracy: 0.9612 - val_loss: 0.1484 - val_accuracy: 0.9431\n",
      "Epoch 30/50\n",
      "79/79 [==============================] - 0s 1ms/step - loss: 0.0978 - accuracy: 0.9668 - val_loss: 0.1428 - val_accuracy: 0.9502\n",
      "Epoch 31/50\n",
      "79/79 [==============================] - 0s 1ms/step - loss: 0.0949 - accuracy: 0.9664 - val_loss: 0.1282 - val_accuracy: 0.9395\n",
      "Epoch 32/50\n",
      "79/79 [==============================] - 0s 1ms/step - loss: 0.0968 - accuracy: 0.9684 - val_loss: 0.1655 - val_accuracy: 0.9502\n",
      "Epoch 33/50\n",
      "79/79 [==============================] - 0s 1ms/step - loss: 0.0932 - accuracy: 0.9676 - val_loss: 0.1519 - val_accuracy: 0.9502\n",
      "Epoch 34/50\n",
      "79/79 [==============================] - 0s 1ms/step - loss: 0.0807 - accuracy: 0.9747 - val_loss: 0.1220 - val_accuracy: 0.9609\n",
      "Epoch 35/50\n",
      "79/79 [==============================] - 0s 1ms/step - loss: 0.0824 - accuracy: 0.9751 - val_loss: 0.1324 - val_accuracy: 0.9609\n",
      "Epoch 36/50\n",
      "79/79 [==============================] - 0s 1ms/step - loss: 0.0764 - accuracy: 0.9771 - val_loss: 0.1441 - val_accuracy: 0.9573\n",
      "Epoch 37/50\n",
      "79/79 [==============================] - 0s 1ms/step - loss: 0.0719 - accuracy: 0.9743 - val_loss: 0.1420 - val_accuracy: 0.9466\n",
      "Epoch 38/50\n",
      "79/79 [==============================] - 0s 1ms/step - loss: 0.0756 - accuracy: 0.9751 - val_loss: 0.1418 - val_accuracy: 0.9609\n",
      "Epoch 39/50\n",
      "79/79 [==============================] - 0s 1ms/step - loss: 0.0643 - accuracy: 0.9782 - val_loss: 0.1744 - val_accuracy: 0.9644\n",
      "Epoch 40/50\n",
      "79/79 [==============================] - 0s 1ms/step - loss: 0.0604 - accuracy: 0.9806 - val_loss: 0.1573 - val_accuracy: 0.9644\n",
      "Epoch 41/50\n",
      "79/79 [==============================] - 0s 1ms/step - loss: 0.0596 - accuracy: 0.9814 - val_loss: 0.1789 - val_accuracy: 0.9573\n",
      "Epoch 42/50\n",
      "79/79 [==============================] - 0s 1ms/step - loss: 0.0617 - accuracy: 0.9798 - val_loss: 0.1287 - val_accuracy: 0.9502\n",
      "Epoch 43/50\n",
      "79/79 [==============================] - 0s 1ms/step - loss: 0.0662 - accuracy: 0.9810 - val_loss: 0.1284 - val_accuracy: 0.9466\n",
      "Epoch 44/50\n",
      "79/79 [==============================] - 0s 1ms/step - loss: 0.0583 - accuracy: 0.9810 - val_loss: 0.1074 - val_accuracy: 0.9609\n",
      "Epoch 45/50\n",
      "79/79 [==============================] - 0s 1ms/step - loss: 0.0610 - accuracy: 0.9818 - val_loss: 0.1296 - val_accuracy: 0.9573\n",
      "Epoch 46/50\n",
      "79/79 [==============================] - 0s 1ms/step - loss: 0.0528 - accuracy: 0.9806 - val_loss: 0.1245 - val_accuracy: 0.9609\n",
      "Epoch 47/50\n",
      "79/79 [==============================] - 0s 1ms/step - loss: 0.0474 - accuracy: 0.9873 - val_loss: 0.1156 - val_accuracy: 0.9680\n",
      "Epoch 48/50\n",
      "79/79 [==============================] - 0s 1ms/step - loss: 0.0476 - accuracy: 0.9842 - val_loss: 0.1420 - val_accuracy: 0.9431\n",
      "Epoch 49/50\n",
      "79/79 [==============================] - 0s 1ms/step - loss: 0.0564 - accuracy: 0.9802 - val_loss: 0.1365 - val_accuracy: 0.9573\n",
      "Epoch 50/50\n",
      "79/79 [==============================] - 0s 1ms/step - loss: 0.0513 - accuracy: 0.9842 - val_loss: 0.1340 - val_accuracy: 0.9644\n"
     ]
    }
   ],
   "source": [
    "history = model.fit(\n",
    "    x=x_train,\n",
    "    y=y_train,\n",
    "    batch_size=32,\n",
    "    epochs=50,\n",
    "    validation_split=0.1\n",
    ")"
   ]
  },
  {
   "cell_type": "markdown",
   "id": "1450a708",
   "metadata": {},
   "source": [
    "## Metrics"
   ]
  },
  {
   "cell_type": "code",
   "execution_count": 13,
   "id": "cc86783f",
   "metadata": {},
   "outputs": [
    {
     "data": {
      "image/png": "[encoded data removed]",
      "text/plain": [
       "<Figure size 1152x288 with 2 Axes>"
      ]
     },
     "metadata": {
      "needs_background": "light"
     },
     "output_type": "display_data"
    }
   ],
   "source": [
    "fig, axs = plt.subplots(1, 2, figsize=(16, 4))\n",
    "\n",
    "axs[0].plot(history.history['loss'], label='loss')\n",
    "axs[0].plot(history.history['val_loss'], label='valiodation loss')\n",
    "axs[0].legend()\n",
    "\n",
    "axs[1].plot(history.history['accuracy'], label='accuracy')\n",
    "axs[1].plot(history.history['val_accuracy'], label='valiodation accuracy')\n",
    "axs[1].legend()\n",
    "\n",
    "plt.show()"
   ]
  },
  {
   "cell_type": "markdown",
   "id": "38c332c2",
   "metadata": {},
   "source": [
    "## Validation"
   ]
  },
  {
   "cell_type": "code",
   "execution_count": 14,
   "id": "3a9522dd",
   "metadata": {},
   "outputs": [],
   "source": [
    "def predict(image: np.ndarray) -> str:\n",
    "    raw_prediction = model.predict(image)\n",
    "    prediction = TARGET_DECODED[np.argmax(raw_prediction)]\n",
    "    return prediction"
   ]
  },
  {
   "cell_type": "code",
   "execution_count": 55,
   "id": "8e756f12",
   "metadata": {},
   "outputs": [
    {
     "data": {
      "image/png": "[encoded data removed]",
      "text/plain": [
       "<Figure size 1152x288 with 10 Axes>"
      ]
     },
     "metadata": {
      "needs_background": "light"
     },
     "output_type": "display_data"
    }
   ],
   "source": [
    "fig, axs = plt.subplots(2, 5, figsize=(16, 4))\n",
    "\n",
    "for i in range(len(axs)):\n",
    "    for j in range(len(axs[0])):\n",
    "        r = random.randint(0, len(x_test))\n",
    "        img = x_test[r:r+1]\n",
    "\n",
    "        axs[i][j].imshow(img[0][0], cmap='gray')\n",
    "        axs[i][j].set_title(predict(img))\n",
    "        axs[i][j].axis('off')"
   ]
  },
  {
   "cell_type": "code",
   "execution_count": null,
   "id": "b75bb3d3",
   "metadata": {},
   "outputs": [],
   "source": []
  }
 ],
 "metadata": {
  "kernelspec": {
   "display_name": "Python 3 (ipykernel)",
   "language": "python",
   "name": "python3"
  },
  "language_info": {
   "codemirror_mode": {
    "name": "ipython",
    "version": 3
   },
   "file_extension": ".py",
   "mimetype": "text/x-python",
   "name": "python",
   "nbconvert_exporter": "python",
   "pygments_lexer": "ipython3",
   "version": "3.9.6"
  }
 },
 "nbformat": 4,
 "nbformat_minor": 5
}
