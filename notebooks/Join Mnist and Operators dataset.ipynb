{
 "cells": [
  {
   "cell_type": "code",
   "execution_count": 21,
   "id": "e173d5a1",
   "metadata": {},
   "outputs": [],
   "source": [
    "import os\n",
    "\n",
    "import cv2\n",
    "import matplotlib.pyplot as plt\n",
    "import numpy as np\n",
    "import tensorflow as tf\n",
    "from keras.models import Sequential\n",
    "from keras.layers import Conv2D, MaxPool2D, Dense\n",
    "from sklearn.model_selection import train_test_split"
   ]
  },
  {
   "cell_type": "code",
   "execution_count": 28,
   "id": "26e1fd04",
   "metadata": {},
   "outputs": [],
   "source": [
    "OPERATORS_DATASET_PATH = '../dataset/images/operators/'\n",
    "OPERATORS_ENCODER = {'add': 10, 'sub': 11, 'mul':12, 'div': 13}\n",
    "OUTPUT_IMAGES = '../dataset/images'"
   ]
  },
  {
   "cell_type": "code",
   "execution_count": 23,
   "id": "e5639745",
   "metadata": {},
   "outputs": [],
   "source": [
    "def _load_local_images():\n",
    "    operators = os.listdir(OPERATORS_DATASET_PATH)\n",
    "    \n",
    "    for c, folder in enumerate(operators, start=10):\n",
    "        operator_path = os.path.join(OPERATORS_DATASET_PATH, folder)\n",
    "        files = os.listdir(operator_path)\n",
    "        \n",
    "        results = np.zeros((len(files), 28, 28))\n",
    "        \n",
    "        for i, file_name in enumerate(files):\n",
    "            image_path = os.path.join(operator_path, file_name)\n",
    "\n",
    "            image = cv2.imread(image_path, cv2.IMREAD_GRAYSCALE)\n",
    "            image = cv2.bitwise_not(image)\n",
    "            results[i,:] = image\n",
    "        yield results, np.ones(len(files), dtype=int) * OPERATORS_ENCODER[folder]"
   ]
  },
  {
   "cell_type": "code",
   "execution_count": 24,
   "id": "21766a4e",
   "metadata": {},
   "outputs": [],
   "source": [
    "def _concat_local_images():\n",
    "    operators_data = []\n",
    "    classes_data = []\n",
    "    \n",
    "    for images, classes in _load_local_images():\n",
    "        if len(operators_data) == 0:\n",
    "            operators_data = images\n",
    "            classes_data = classes\n",
    "            continue\n",
    "\n",
    "        operators_data = np.concatenate((operators_data, images))\n",
    "        classes_data = np.concatenate((classes_data, classes))  \n",
    "    \n",
    "    return operators_data, classes_data"
   ]
  },
  {
   "cell_type": "code",
   "execution_count": 25,
   "id": "5d5be326",
   "metadata": {},
   "outputs": [],
   "source": [
    "def load_data():\n",
    "    (x_train, y_train), (x_test, y_test) = tf.keras.datasets.mnist.load_data()\n",
    "    operators_data, classes_data = _concat_local_images()\n",
    "    \n",
    "    x = np.concatenate((x_train[:650], x_test[:650], operators_data))\n",
    "    y = np.concatenate((y_train[:650], y_test[:650], classes_data))\n",
    "    \n",
    "    return x, y"
   ]
  },
  {
   "cell_type": "code",
   "execution_count": 26,
   "id": "28ee5633",
   "metadata": {},
   "outputs": [],
   "source": [
    "x, y = load_data()"
   ]
  },
  {
   "cell_type": "code",
   "execution_count": 27,
   "id": "9dc160e3",
   "metadata": {},
   "outputs": [
    {
     "data": {
      "text/plain": [
       "((3746, 28, 28), (3746,))"
      ]
     },
     "execution_count": 27,
     "metadata": {},
     "output_type": "execute_result"
    }
   ],
   "source": [
    "x.shape, y.shape"
   ]
  },
  {
   "cell_type": "code",
   "execution_count": 36,
   "id": "5569e2e3",
   "metadata": {},
   "outputs": [],
   "source": [
    "x_train, x_test, y_train, y_test = train_test_split(x, y, random_state=101, test_size=0.25)"
   ]
  },
  {
   "cell_type": "code",
   "execution_count": 37,
   "id": "01853851",
   "metadata": {},
   "outputs": [],
   "source": [
    "folder = os.path.join(OUTPUT_IMAGES, 'train')\n",
    "os.makedirs(folder, exist_ok=True)\n",
    "\n",
    "for index, (image, target) in enumerate(zip(x_train, y_train), start=1):\n",
    "    cv2.imwrite(os.path.join(folder, f'{index:0>4}-{target}.png'), image)"
   ]
  },
  {
   "cell_type": "code",
   "execution_count": 38,
   "id": "0d281f0e",
   "metadata": {},
   "outputs": [],
   "source": [
    "folder = os.path.join(OUTPUT_IMAGES, 'test')\n",
    "os.makedirs(folder, exist_ok=True)\n",
    "\n",
    "for index, (image, target) in enumerate(zip(x_test, y_test), start=1):\n",
    "    cv2.imwrite(os.path.join(folder, f'{index:0>4}-{target}.png'), image)"
   ]
  },
  {
   "cell_type": "code",
   "execution_count": null,
   "id": "2a2b38a0",
   "metadata": {},
   "outputs": [],
   "source": []
  }
 ],
 "metadata": {
  "kernelspec": {
   "display_name": "Python 3 (ipykernel)",
   "language": "python",
   "name": "python3"
  },
  "language_info": {
   "codemirror_mode": {
    "name": "ipython",
    "version": 3
   },
   "file_extension": ".py",
   "mimetype": "text/x-python",
   "name": "python",
   "nbconvert_exporter": "python",
   "pygments_lexer": "ipython3",
   "version": "3.9.6"
  }
 },
 "nbformat": 4,
 "nbformat_minor": 5
}
