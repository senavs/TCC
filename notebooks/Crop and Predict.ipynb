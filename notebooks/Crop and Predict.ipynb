{
 "cells": [
  {
   "cell_type": "markdown",
   "id": "75064b6c",
   "metadata": {},
   "source": [
    "# Crop from expression and predict"
   ]
  },
  {
   "cell_type": "markdown",
   "id": "d945f0dd",
   "metadata": {},
   "source": [
    "## Imports"
   ]
  },
  {
   "cell_type": "code",
   "execution_count": 1,
   "id": "535cd214",
   "metadata": {},
   "outputs": [],
   "source": [
    "import os\n",
    "\n",
    "import cv2\n",
    "import matplotlib.pyplot as plt\n",
    "import numpy as np\n",
    "import tensorflow as tf\n",
    "from keras.layers import Input, Conv2D, MaxPooling2D, Dense, Flatten, Dropout\n",
    "from keras.models import Model"
   ]
  },
  {
   "cell_type": "code",
   "execution_count": 2,
   "id": "46eba45c",
   "metadata": {},
   "outputs": [],
   "source": [
    "DATASET_PATH = '../dataset/'\n",
    "DATASET_IMAGES_PATH = {folder: os.path.join(DATASET_PATH, folder) for folder in os.listdir(DATASET_PATH)}\n",
    "DATASET_IMAGES_FLAG = cv2.IMREAD_GRAYSCALE\n",
    "DATASET_IMAGES_SHAPE = (45, 45, 1)\n",
    "\n",
    "TARGET_DECODER = {i: target for i, target in enumerate(sorted(DATASET_IMAGES_PATH))}\n",
    "TARGET_ENCODER = dict((value, key) for key, value in TARGET_DECODER.items())\n",
    "TARGETS_SIZES = {name: len(os.listdir(os.path.join(DATASET_PATH, name))) for name in os.listdir(DATASET_PATH)}\n",
    "\n",
    "DATASET_LEN = 3068 * len(DATASET_IMAGES_PATH)  # lenght of '8' folder\n",
    "\n",
    "FIT_RANDOM_STATE = 101\n",
    "FIT_TEST_SIZE = 0.20"
   ]
  },
  {
   "cell_type": "code",
   "execution_count": 3,
   "id": "e6ee394f",
   "metadata": {},
   "outputs": [
    {
     "name": "stdout",
     "output_type": "stream",
     "text": [
      "Num GPUs Available:  1\n"
     ]
    },
    {
     "name": "stderr",
     "output_type": "stream",
     "text": [
      "2021-09-03 12:58:37.416815: I tensorflow/stream_executor/cuda/cuda_gpu_executor.cc:937] successful NUMA node read from SysFS had negative value (-1), but there must be at least one NUMA node, so returning NUMA node zero\n",
      "2021-09-03 12:58:37.421261: I tensorflow/stream_executor/cuda/cuda_gpu_executor.cc:937] successful NUMA node read from SysFS had negative value (-1), but there must be at least one NUMA node, so returning NUMA node zero\n",
      "2021-09-03 12:58:37.421596: I tensorflow/stream_executor/cuda/cuda_gpu_executor.cc:937] successful NUMA node read from SysFS had negative value (-1), but there must be at least one NUMA node, so returning NUMA node zero\n"
     ]
    }
   ],
   "source": [
    "print(\"Num GPUs Available: \", len(tf.config.list_physical_devices('GPU')))"
   ]
  },
  {
   "cell_type": "markdown",
   "id": "865b1217",
   "metadata": {},
   "source": [
    "## Processing"
   ]
  },
  {
   "cell_type": "code",
   "execution_count": 4,
   "id": "0c1cb30f",
   "metadata": {},
   "outputs": [],
   "source": [
    "def pre_processing(image: np.ndarray) -> np.ndarray:\n",
    "    image = cv2.resize(image, DATASET_IMAGES_SHAPE[:2])\n",
    "    image = image[:, :, np.newaxis]\n",
    "    image = image / 255.\n",
    "    return image"
   ]
  },
  {
   "cell_type": "code",
   "execution_count": 5,
   "id": "2b97326f",
   "metadata": {},
   "outputs": [],
   "source": [
    "def get_image_from_file(file_path: str) -> np.ndarray:\n",
    "    image = cv2.imread(file_path, DATASET_IMAGES_FLAG)\n",
    "    if image is None:\n",
    "        raise FileNotFoundError(f'Could not find {file_path!r} file')\n",
    "    return image"
   ]
  },
  {
   "cell_type": "markdown",
   "id": "785e5b33",
   "metadata": {},
   "source": [
    "## Model"
   ]
  },
  {
   "cell_type": "code",
   "execution_count": 6,
   "id": "dd173eef",
   "metadata": {},
   "outputs": [],
   "source": [
    "def build_model() -> Model:\n",
    "    input_ = Input(shape=DATASET_IMAGES_SHAPE)\n",
    "    \n",
    "    x = Conv2D(32, kernel_size=(3, 3), padding='same', activation='relu')(input_)\n",
    "    x = MaxPooling2D(pool_size=(2, 2), padding='same')(x)\n",
    "    x = Dropout(0.25)(x)\n",
    "\n",
    "    x = Flatten()(x)\n",
    "    \n",
    "    x = Dense(64, activation='relu')(x)\n",
    "    x = Dropout(0.5)(x)\n",
    "    output = Dense(len(TARGET_ENCODER), activation='softmax')(x)\n",
    "    \n",
    "    \n",
    "    model = Model(input_, output)\n",
    "    model.compile(loss='sparse_categorical_crossentropy', optimizer='adam',metrics=[\"accuracy\"])\n",
    "    \n",
    "    return model"
   ]
  },
  {
   "cell_type": "code",
   "execution_count": 7,
   "id": "d1f7c976",
   "metadata": {
    "scrolled": true
   },
   "outputs": [
    {
     "name": "stderr",
     "output_type": "stream",
     "text": [
      "2021-09-03 12:58:38.893060: I tensorflow/core/platform/cpu_feature_guard.cc:142] This TensorFlow binary is optimized with oneAPI Deep Neural Network Library (oneDNN) to use the following CPU instructions in performance-critical operations:  AVX2 FMA\n",
      "To enable them in other operations, rebuild TensorFlow with the appropriate compiler flags.\n",
      "2021-09-03 12:58:38.893485: I tensorflow/stream_executor/cuda/cuda_gpu_executor.cc:937] successful NUMA node read from SysFS had negative value (-1), but there must be at least one NUMA node, so returning NUMA node zero\n",
      "2021-09-03 12:58:38.893830: I tensorflow/stream_executor/cuda/cuda_gpu_executor.cc:937] successful NUMA node read from SysFS had negative value (-1), but there must be at least one NUMA node, so returning NUMA node zero\n",
      "2021-09-03 12:58:38.894118: I tensorflow/stream_executor/cuda/cuda_gpu_executor.cc:937] successful NUMA node read from SysFS had negative value (-1), but there must be at least one NUMA node, so returning NUMA node zero\n",
      "2021-09-03 12:58:39.200742: I tensorflow/stream_executor/cuda/cuda_gpu_executor.cc:937] successful NUMA node read from SysFS had negative value (-1), but there must be at least one NUMA node, so returning NUMA node zero\n",
      "2021-09-03 12:58:39.201040: I tensorflow/stream_executor/cuda/cuda_gpu_executor.cc:937] successful NUMA node read from SysFS had negative value (-1), but there must be at least one NUMA node, so returning NUMA node zero\n",
      "2021-09-03 12:58:39.201306: I tensorflow/stream_executor/cuda/cuda_gpu_executor.cc:937] successful NUMA node read from SysFS had negative value (-1), but there must be at least one NUMA node, so returning NUMA node zero\n",
      "2021-09-03 12:58:39.201555: I tensorflow/core/common_runtime/gpu/gpu_device.cc:1510] Created device /job:localhost/replica:0/task:0/device:GPU:0 with 4276 MB memory:  -> device: 0, name: NVIDIA GeForce RTX 2060, pci bus id: 0000:06:00.0, compute capability: 7.5\n"
     ]
    }
   ],
   "source": [
    "model = build_model()\n",
    "model.load_weights('./model.h5')"
   ]
  },
  {
   "cell_type": "code",
   "execution_count": 8,
   "id": "17b59b84",
   "metadata": {},
   "outputs": [],
   "source": [
    "def predict(image: np.ndarray) -> str:\n",
    "    prediction = model.predict(image)\n",
    "    return TARGET_DECODER[np.argmax(prediction)]"
   ]
  },
  {
   "cell_type": "markdown",
   "id": "7e0eeb92",
   "metadata": {},
   "source": [
    "## Expression"
   ]
  },
  {
   "cell_type": "code",
   "execution_count": 112,
   "id": "384f1bdf",
   "metadata": {},
   "outputs": [],
   "source": [
    "def get_bbs(image: np.ndarray) -> np.ndarray:\n",
    "    _, threshold = cv2.threshold(image, 127, 255, cv2.THRESH_BINARY_INV)\n",
    "    contours, _ = cv2.findContours(threshold, cv2.RETR_EXTERNAL, cv2.CHAIN_APPROX_SIMPLE)\n",
    "    \n",
    "    for contour in sorted(contours, key=lambda contour: cv2.boundingRect(contour)[0]):\n",
    "        x, y, w, h = cv2.boundingRect(contour)\n",
    "        yield image[y:y+h, x:x+w]"
   ]
  },
  {
   "cell_type": "code",
   "execution_count": 113,
   "id": "a1166a69",
   "metadata": {},
   "outputs": [],
   "source": [
    "def pad_image(image: np.ndarray) -> np.ndarray:\n",
    "    pad_image = np.pad(image, DATASET_IMAGES_SHAPE[:2], constant_values=255)\n",
    "    x_shape, y_shape = pad_image.shape\n",
    "\n",
    "    x = abs((x_shape // 2) - 46 // 2)\n",
    "    w = x + 45\n",
    "    \n",
    "    y = abs((y_shape // 2) - 46 // 2)\n",
    "    h = y + 45\n",
    "\n",
    "    return pad_image[x:w, y:h]"
   ]
  },
  {
   "cell_type": "code",
   "execution_count": 114,
   "id": "1cb9c237",
   "metadata": {
    "scrolled": true
   },
   "outputs": [
    {
     "data": {
      "text/plain": [
       "<matplotlib.image.AxesImage at 0x7fe8e140dac0>"
      ]
     },
     "execution_count": 114,
     "metadata": {},
     "output_type": "execute_result"
    },
    {
     "data": {
      "image/png": "[encoded data removed]",
      "text/plain": [
       "<Figure size 432x288 with 1 Axes>"
      ]
     },
     "metadata": {
      "needs_background": "light"
     },
     "output_type": "display_data"
    }
   ],
   "source": [
    "expression = cv2.imread('../outside-expression-3.png', DATASET_IMAGES_FLAG)\n",
    "plt.imshow(expression, cmap='gray')"
   ]
  },
  {
   "cell_type": "code",
   "execution_count": 115,
   "id": "2dd5e0b8",
   "metadata": {},
   "outputs": [
    {
     "data": {
      "image/png": "[encoded data removed]",
      "text/plain": [
       "<Figure size 1152x288 with 7 Axes>"
      ]
     },
     "metadata": {
      "needs_background": "light"
     },
     "output_type": "display_data"
    }
   ],
   "source": [
    "fig, axs = plt.subplots(1, 7, figsize=(16, 4))\n",
    "\n",
    "for i, roi in enumerate(get_bbs(expression)):\n",
    "    axs[i].imshow(roi, cmap='gray')"
   ]
  },
  {
   "cell_type": "code",
   "execution_count": 116,
   "id": "4203f968",
   "metadata": {},
   "outputs": [
    {
     "data": {
      "image/png": "[encoded data removed]",
      "text/plain": [
       "<Figure size 1152x288 with 7 Axes>"
      ]
     },
     "metadata": {
      "needs_background": "light"
     },
     "output_type": "display_data"
    }
   ],
   "source": [
    "fig, axs = plt.subplots(1, 7, figsize=(16, 4))\n",
    "\n",
    "for i, roi in enumerate(get_bbs(expression)):\n",
    "    padded_image = pad_image(roi)\n",
    "    prediction = predict(pre_processing(padded_image)[np.newaxis, :, :, np.newaxis])\n",
    "    \n",
    "    axs[i].imshow(padded_image, cmap='gray')\n",
    "    axs[i].set_title(prediction)\n",
    "    # axs[i].axis('off')"
   ]
  },
  {
   "cell_type": "code",
   "execution_count": null,
   "id": "e2a66382",
   "metadata": {},
   "outputs": [],
   "source": []
  }
 ],
 "metadata": {
  "kernelspec": {
   "display_name": "Python 3 (ipykernel)",
   "language": "python",
   "name": "python3"
  },
  "language_info": {
   "codemirror_mode": {
    "name": "ipython",
    "version": 3
   },
   "file_extension": ".py",
   "mimetype": "text/x-python",
   "name": "python",
   "nbconvert_exporter": "python",
   "pygments_lexer": "ipython3",
   "version": "3.9.6"
  }
 },
 "nbformat": 4,
 "nbformat_minor": 5
}
