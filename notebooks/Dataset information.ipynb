{
 "cells": [
  {
   "cell_type": "code",
   "execution_count": 1,
   "id": "39b09a90",
   "metadata": {},
   "outputs": [],
   "source": [
    "import os\n",
    "\n",
    "import matplotlib.pyplot as plt"
   ]
  },
  {
   "cell_type": "code",
   "execution_count": 2,
   "id": "4fb47fbc",
   "metadata": {},
   "outputs": [],
   "source": [
    "DATASET_PATH = '../dataset/'"
   ]
  },
  {
   "cell_type": "code",
   "execution_count": 3,
   "id": "7a6f49de",
   "metadata": {},
   "outputs": [],
   "source": [
    "math_symbols = {name: len(os.listdir(os.path.join(DATASET_PATH, name))) for name in os.listdir(DATASET_PATH)}"
   ]
  },
  {
   "cell_type": "code",
   "execution_count": 4,
   "id": "4ef19970",
   "metadata": {},
   "outputs": [
    {
     "data": {
      "text/plain": [
       "<BarContainer object of 16 artists>"
      ]
     },
     "execution_count": 4,
     "metadata": {},
     "output_type": "execute_result"
    },
    {
     "data": {
      "image/png": "[encoded data removed]",
      "text/plain": [
       "<Figure size 432x288 with 1 Axes>"
      ]
     },
     "metadata": {
      "needs_background": "light"
     },
     "output_type": "display_data"
    }
   ],
   "source": [
    "plt.bar(math_symbols.keys(), math_symbols.values())"
   ]
  },
  {
   "cell_type": "code",
   "execution_count": 5,
   "id": "cc6639ac",
   "metadata": {},
   "outputs": [
    {
     "data": {
      "text/plain": [
       "186134"
      ]
     },
     "execution_count": 5,
     "metadata": {},
     "output_type": "execute_result"
    }
   ],
   "source": [
    "sum(math_symbols.values())"
   ]
  },
  {
   "cell_type": "code",
   "execution_count": 10,
   "id": "23ab7cae",
   "metadata": {},
   "outputs": [
    {
     "data": {
      "text/plain": [
       "16"
      ]
     },
     "execution_count": 10,
     "metadata": {},
     "output_type": "execute_result"
    }
   ],
   "source": [
    "len(math_symbols)"
   ]
  },
  {
   "cell_type": "code",
   "execution_count": 9,
   "id": "28d86c93",
   "metadata": {},
   "outputs": [
    {
     "data": {
      "text/plain": [
       "3737"
      ]
     },
     "execution_count": 9,
     "metadata": {},
     "output_type": "execute_result"
    }
   ],
   "source": [
    "math_symbols['9']"
   ]
  },
  {
   "cell_type": "code",
   "execution_count": 11,
   "id": "1377f828",
   "metadata": {},
   "outputs": [
    {
     "data": {
      "text/plain": [
       "59792"
      ]
     },
     "execution_count": 11,
     "metadata": {},
     "output_type": "execute_result"
    }
   ],
   "source": [
    "16 * 3737"
   ]
  }
 ],
 "metadata": {
  "kernelspec": {
   "display_name": "Python 3 (ipykernel)",
   "language": "python",
   "name": "python3"
  },
  "language_info": {
   "codemirror_mode": {
    "name": "ipython",
    "version": 3
   },
   "file_extension": ".py",
   "mimetype": "text/x-python",
   "name": "python",
   "nbconvert_exporter": "python",
   "pygments_lexer": "ipython3",
   "version": "3.9.6"
  }
 },
 "nbformat": 4,
 "nbformat_minor": 5
}
