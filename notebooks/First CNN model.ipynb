{
 "cells": [
  {
   "cell_type": "markdown",
   "id": "5a5e7ae1",
   "metadata": {},
   "source": [
    "# First CNN model (test)"
   ]
  },
  {
   "cell_type": "markdown",
   "id": "ac27a0be",
   "metadata": {},
   "source": [
    "## Import"
   ]
  },
  {
   "cell_type": "code",
   "execution_count": 1,
   "id": "e6348882",
   "metadata": {},
   "outputs": [],
   "source": [
    "import random\n",
    "import os\n",
    "from itertools import count\n",
    "from typing import Tuple\n",
    "\n",
    "import cv2\n",
    "import matplotlib.pyplot as plt\n",
    "import numpy as np\n",
    "import tensorflow as tf\n",
    "from keras.backend import clear_session\n",
    "from keras.callbacks import ModelCheckpoint\n",
    "from keras.layers import Input, Conv2D, MaxPooling2D, Dense, Flatten, Dropout\n",
    "from keras.models import Model\n",
    "from sklearn.model_selection import train_test_split\n",
    "from sklearn.metrics import classification_report"
   ]
  },
  {
   "cell_type": "code",
   "execution_count": 2,
   "id": "1825cbbd",
   "metadata": {},
   "outputs": [
    {
     "name": "stdout",
     "output_type": "stream",
     "text": [
      "Num GPUs Available:  1\n"
     ]
    },
    {
     "name": "stderr",
     "output_type": "stream",
     "text": [
      "2021-09-03 10:42:53.997924: I tensorflow/stream_executor/cuda/cuda_gpu_executor.cc:937] successful NUMA node read from SysFS had negative value (-1), but there must be at least one NUMA node, so returning NUMA node zero\n",
      "2021-09-03 10:42:54.002394: I tensorflow/stream_executor/cuda/cuda_gpu_executor.cc:937] successful NUMA node read from SysFS had negative value (-1), but there must be at least one NUMA node, so returning NUMA node zero\n",
      "2021-09-03 10:42:54.002738: I tensorflow/stream_executor/cuda/cuda_gpu_executor.cc:937] successful NUMA node read from SysFS had negative value (-1), but there must be at least one NUMA node, so returning NUMA node zero\n"
     ]
    }
   ],
   "source": [
    "print(\"Num GPUs Available: \", len(tf.config.list_physical_devices('GPU')))"
   ]
  },
  {
   "cell_type": "markdown",
   "id": "c507ceb0",
   "metadata": {},
   "source": [
    "## Config variables"
   ]
  },
  {
   "cell_type": "code",
   "execution_count": 3,
   "id": "8378a967",
   "metadata": {},
   "outputs": [],
   "source": [
    "DATASET_PATH = '../dataset/'\n",
    "DATASET_IMAGES_PATH = {folder: os.path.join(DATASET_PATH, folder) for folder in os.listdir(DATASET_PATH)}\n",
    "DATASET_IMAGES_FLAG = cv2.IMREAD_GRAYSCALE\n",
    "DATASET_IMAGES_SHAPE = (45, 45, 1)\n",
    "\n",
    "TARGET_DECODER = {i: target for i, target in enumerate(sorted(DATASET_IMAGES_PATH))}\n",
    "TARGET_ENCODER = dict((value, key) for key, value in TARGET_DECODER.items())\n",
    "TARGETS_SIZES = {name: len(os.listdir(os.path.join(DATASET_PATH, name))) for name in os.listdir(DATASET_PATH)}\n",
    "\n",
    "CUT_DATASET = 6914  # lenght of '8' folder\n",
    "DATASET_LEN = CUT_DATASET * len(DATASET_IMAGES_PATH)\n",
    "\n",
    "FIT_RANDOM_STATE = 101\n",
    "FIT_TEST_SIZE = 0.20"
   ]
  },
  {
   "cell_type": "code",
   "execution_count": 4,
   "id": "e50a1d26",
   "metadata": {},
   "outputs": [],
   "source": [
    "random.seed(FIT_RANDOM_STATE)"
   ]
  },
  {
   "cell_type": "code",
   "execution_count": 5,
   "id": "9b14170c",
   "metadata": {},
   "outputs": [
    {
     "data": {
      "text/plain": [
       "[('div', 868),\n",
       " ('7', 2909),\n",
       " ('8', 3068),\n",
       " ('6', 3118),\n",
       " ('times', 3251),\n",
       " ('5', 3545),\n",
       " ('9', 3737),\n",
       " ('0', 6914),\n",
       " ('4', 7396),\n",
       " ('3', 10909),\n",
       " ('parenthesis-opened', 14294),\n",
       " ('parenthesis-closed', 14355),\n",
       " ('plus', 25112),\n",
       " ('2', 26141),\n",
       " ('1', 26520),\n",
       " ('minus', 33997)]"
      ]
     },
     "execution_count": 5,
     "metadata": {},
     "output_type": "execute_result"
    }
   ],
   "source": [
    "list(sorted(TARGETS_SIZES.items(), key=lambda x: x[1]))"
   ]
  },
  {
   "cell_type": "markdown",
   "id": "4e4d5187",
   "metadata": {},
   "source": [
    "## Processing functions"
   ]
  },
  {
   "cell_type": "code",
   "execution_count": 6,
   "id": "6959eda0",
   "metadata": {},
   "outputs": [],
   "source": [
    "def pre_processing(image: np.ndarray) -> np.ndarray:\n",
    "    image = cv2.resize(image, DATASET_IMAGES_SHAPE[:2])\n",
    "    image = image[:, :, np.newaxis]\n",
    "    image = image / 255.\n",
    "    return image"
   ]
  },
  {
   "cell_type": "code",
   "execution_count": 7,
   "id": "1eacf6d0",
   "metadata": {},
   "outputs": [],
   "source": [
    "def get_image_from_file(file_path: str) -> np.ndarray:\n",
    "    image = cv2.imread(file_path, DATASET_IMAGES_FLAG)\n",
    "    if image is None:\n",
    "        raise FileNotFoundError(f'Could not find {file_path!r} file')\n",
    "    return image"
   ]
  },
  {
   "cell_type": "code",
   "execution_count": 8,
   "id": "8781ed9b",
   "metadata": {},
   "outputs": [],
   "source": [
    "def load_all() -> Tuple[np.ndarray, np.ndarray]:\n",
    "    x = np.zeros((DATASET_LEN,) + DATASET_IMAGES_SHAPE)\n",
    "    y = []\n",
    "    \n",
    "    counter = count(-1)\n",
    "    for folder, folder_path in DATASET_IMAGES_PATH.items():\n",
    "        for file_name in random.choices(os.listdir(folder_path), k=CUT_DATASET):\n",
    "            file_path = os.path.join(folder_path, file_name)\n",
    "            \n",
    "            image = pre_processing(get_image_from_file(file_path))\n",
    "            x[next(counter), :, :, :] = image\n",
    "            y.append(TARGET_ENCODER[folder])\n",
    "    return x, np.array(y)"
   ]
  },
  {
   "cell_type": "code",
   "execution_count": 9,
   "id": "9a4e1366",
   "metadata": {
    "scrolled": true
   },
   "outputs": [],
   "source": [
    "x, y = load_all()"
   ]
  },
  {
   "cell_type": "code",
   "execution_count": 10,
   "id": "25eb25ee",
   "metadata": {},
   "outputs": [
    {
     "data": {
      "text/plain": [
       "((110624, 45, 45, 1), (110624,))"
      ]
     },
     "execution_count": 10,
     "metadata": {},
     "output_type": "execute_result"
    }
   ],
   "source": [
    "x.shape, y.shape"
   ]
  },
  {
   "cell_type": "markdown",
   "id": "29a18cfe",
   "metadata": {},
   "source": [
    "## Train Test Split"
   ]
  },
  {
   "cell_type": "code",
   "execution_count": 11,
   "id": "b4f4d8d3",
   "metadata": {},
   "outputs": [],
   "source": [
    "x_train, x_test, y_train, y_test = train_test_split(x, y, random_state=FIT_RANDOM_STATE, test_size=FIT_TEST_SIZE)"
   ]
  },
  {
   "cell_type": "code",
   "execution_count": 12,
   "id": "9977d9fc",
   "metadata": {},
   "outputs": [
    {
     "data": {
      "text/plain": [
       "((88499, 45, 45, 1), (22125, 45, 45, 1), (88499,), (22125,))"
      ]
     },
     "execution_count": 12,
     "metadata": {},
     "output_type": "execute_result"
    }
   ],
   "source": [
    "x_train.shape, x_test.shape, y_train.shape, y_test.shape"
   ]
  },
  {
   "cell_type": "markdown",
   "id": "1bdcd26c",
   "metadata": {},
   "source": [
    "## Model"
   ]
  },
  {
   "cell_type": "code",
   "execution_count": 13,
   "id": "cd833521",
   "metadata": {},
   "outputs": [],
   "source": [
    "def build_model() -> Model:\n",
    "    input_ = Input(shape=DATASET_IMAGES_SHAPE)\n",
    "    \n",
    "    x = Conv2D(32, kernel_size=(3, 3), padding='same', activation='relu')(input_)\n",
    "    x = MaxPooling2D(pool_size=(2, 2), padding='same')(x)\n",
    "    x = Dropout(0.25)(x)\n",
    "\n",
    "    x = Flatten()(x)\n",
    "    \n",
    "    x = Dense(128, activation='relu')(x)\n",
    "    x = Dropout(0.5)(x)\n",
    "    output = Dense(len(TARGET_ENCODER), activation='softmax')(x)\n",
    "    \n",
    "    \n",
    "    model = Model(input_, output)\n",
    "    model.compile(loss='sparse_categorical_crossentropy', optimizer='adam',metrics=[\"accuracy\"])\n",
    "    \n",
    "    return model"
   ]
  },
  {
   "cell_type": "code",
   "execution_count": 34,
   "id": "ee3175fb",
   "metadata": {},
   "outputs": [
    {
     "name": "stderr",
     "output_type": "stream",
     "text": [
      "2021-09-03 10:36:41.073814: I tensorflow/core/platform/cpu_feature_guard.cc:142] This TensorFlow binary is optimized with oneAPI Deep Neural Network Library (oneDNN) to use the following CPU instructions in performance-critical operations:  AVX2 FMA\n",
      "To enable them in other operations, rebuild TensorFlow with the appropriate compiler flags.\n",
      "2021-09-03 10:36:41.074204: I tensorflow/stream_executor/cuda/cuda_gpu_executor.cc:937] successful NUMA node read from SysFS had negative value (-1), but there must be at least one NUMA node, so returning NUMA node zero\n",
      "2021-09-03 10:36:41.074552: I tensorflow/stream_executor/cuda/cuda_gpu_executor.cc:937] successful NUMA node read from SysFS had negative value (-1), but there must be at least one NUMA node, so returning NUMA node zero\n",
      "2021-09-03 10:36:41.074857: I tensorflow/stream_executor/cuda/cuda_gpu_executor.cc:937] successful NUMA node read from SysFS had negative value (-1), but there must be at least one NUMA node, so returning NUMA node zero\n",
      "2021-09-03 10:36:41.372831: I tensorflow/stream_executor/cuda/cuda_gpu_executor.cc:937] successful NUMA node read from SysFS had negative value (-1), but there must be at least one NUMA node, so returning NUMA node zero\n",
      "2021-09-03 10:36:41.373149: I tensorflow/stream_executor/cuda/cuda_gpu_executor.cc:937] successful NUMA node read from SysFS had negative value (-1), but there must be at least one NUMA node, so returning NUMA node zero\n",
      "2021-09-03 10:36:41.373424: I tensorflow/stream_executor/cuda/cuda_gpu_executor.cc:937] successful NUMA node read from SysFS had negative value (-1), but there must be at least one NUMA node, so returning NUMA node zero\n",
      "2021-09-03 10:36:41.373679: I tensorflow/core/common_runtime/gpu/gpu_device.cc:1510] Created device /job:localhost/replica:0/task:0/device:GPU:0 with 4275 MB memory:  -> device: 0, name: NVIDIA GeForce RTX 2060, pci bus id: 0000:06:00.0, compute capability: 7.5\n"
     ]
    }
   ],
   "source": [
    "model = build_model()"
   ]
  },
  {
   "cell_type": "code",
   "execution_count": 35,
   "id": "5b33b009",
   "metadata": {},
   "outputs": [
    {
     "name": "stdout",
     "output_type": "stream",
     "text": [
      "Model: \"model\"\n",
      "_________________________________________________________________\n",
      "Layer (type)                 Output Shape              Param #   \n",
      "=================================================================\n",
      "input_1 (InputLayer)         [(None, 45, 45, 1)]       0         \n",
      "_________________________________________________________________\n",
      "conv2d (Conv2D)              (None, 45, 45, 32)        320       \n",
      "_________________________________________________________________\n",
      "max_pooling2d (MaxPooling2D) (None, 23, 23, 32)        0         \n",
      "_________________________________________________________________\n",
      "dropout (Dropout)            (None, 23, 23, 32)        0         \n",
      "_________________________________________________________________\n",
      "flatten (Flatten)            (None, 16928)             0         \n",
      "_________________________________________________________________\n",
      "dense (Dense)                (None, 128)               2166912   \n",
      "_________________________________________________________________\n",
      "dropout_1 (Dropout)          (None, 128)               0         \n",
      "_________________________________________________________________\n",
      "dense_1 (Dense)              (None, 16)                2064      \n",
      "=================================================================\n",
      "Total params: 2,169,296\n",
      "Trainable params: 2,169,296\n",
      "Non-trainable params: 0\n",
      "_________________________________________________________________\n"
     ]
    }
   ],
   "source": [
    "model.summary()"
   ]
  },
  {
   "cell_type": "markdown",
   "id": "10df249f",
   "metadata": {},
   "source": [
    "## Fitting"
   ]
  },
  {
   "cell_type": "code",
   "execution_count": 36,
   "id": "cdc93fd5",
   "metadata": {
    "scrolled": true
   },
   "outputs": [
    {
     "name": "stderr",
     "output_type": "stream",
     "text": [
      "2021-09-03 10:36:56.907033: W tensorflow/core/framework/cpu_allocator_impl.cc:80] Allocation of 609314400 exceeds 10% of free system memory.\n",
      "2021-09-03 10:36:57.158925: W tensorflow/core/framework/cpu_allocator_impl.cc:80] Allocation of 609314400 exceeds 10% of free system memory.\n",
      "2021-09-03 10:36:57.328706: I tensorflow/compiler/mlir/mlir_graph_optimization_pass.cc:185] None of the MLIR Optimization Passes are enabled (registered 2)\n"
     ]
    },
    {
     "name": "stdout",
     "output_type": "stream",
     "text": [
      "Epoch 1/50\n"
     ]
    },
    {
     "name": "stderr",
     "output_type": "stream",
     "text": [
      "2021-09-03 10:36:57.836978: I tensorflow/stream_executor/cuda/cuda_dnn.cc:369] Loaded cuDNN version 8201\n"
     ]
    },
    {
     "name": "stdout",
     "output_type": "stream",
     "text": [
      "2341/2351 [============================>.] - ETA: 0s - loss: 1.6001 - accuracy: 0.4581"
     ]
    },
    {
     "name": "stderr",
     "output_type": "stream",
     "text": [
      "2021-09-03 10:37:02.792907: W tensorflow/core/framework/cpu_allocator_impl.cc:80] Allocation of 107527500 exceeds 10% of free system memory.\n",
      "2021-09-03 10:37:02.848950: W tensorflow/core/framework/cpu_allocator_impl.cc:80] Allocation of 107527500 exceeds 10% of free system memory.\n"
     ]
    },
    {
     "name": "stdout",
     "output_type": "stream",
     "text": [
      "2351/2351 [==============================] - 6s 2ms/step - loss: 1.5959 - accuracy: 0.4595 - val_loss: 0.2228 - val_accuracy: 0.9464\n",
      "Epoch 2/50\n",
      "2351/2351 [==============================] - 4s 2ms/step - loss: 0.5464 - accuracy: 0.8145 - val_loss: 0.1043 - val_accuracy: 0.9742\n",
      "Epoch 3/50\n",
      "2351/2351 [==============================] - 4s 2ms/step - loss: 0.3938 - accuracy: 0.8666 - val_loss: 0.0788 - val_accuracy: 0.9821\n",
      "Epoch 4/50\n",
      "2351/2351 [==============================] - 4s 2ms/step - loss: 0.3182 - accuracy: 0.8925 - val_loss: 0.0611 - val_accuracy: 0.9837\n",
      "Epoch 5/50\n",
      "2351/2351 [==============================] - 4s 2ms/step - loss: 0.2703 - accuracy: 0.9097 - val_loss: 0.0548 - val_accuracy: 0.9869\n",
      "Epoch 6/50\n",
      "2351/2351 [==============================] - 4s 2ms/step - loss: 0.2453 - accuracy: 0.9164 - val_loss: 0.0505 - val_accuracy: 0.9885\n",
      "Epoch 7/50\n",
      "2351/2351 [==============================] - 4s 2ms/step - loss: 0.2264 - accuracy: 0.9232 - val_loss: 0.0492 - val_accuracy: 0.9885\n",
      "Epoch 8/50\n",
      "2351/2351 [==============================] - 4s 2ms/step - loss: 0.2103 - accuracy: 0.9288 - val_loss: 0.0470 - val_accuracy: 0.9904\n",
      "Epoch 9/50\n",
      "2351/2351 [==============================] - 4s 2ms/step - loss: 0.2002 - accuracy: 0.9327 - val_loss: 0.0451 - val_accuracy: 0.9897\n",
      "Epoch 10/50\n",
      "2351/2351 [==============================] - 4s 2ms/step - loss: 0.1844 - accuracy: 0.9373 - val_loss: 0.0471 - val_accuracy: 0.9911\n",
      "Epoch 11/50\n",
      "2351/2351 [==============================] - 4s 2ms/step - loss: 0.1751 - accuracy: 0.9405 - val_loss: 0.0446 - val_accuracy: 0.9887\n",
      "Epoch 12/50\n",
      "2351/2351 [==============================] - 4s 2ms/step - loss: 0.1642 - accuracy: 0.9440 - val_loss: 0.0460 - val_accuracy: 0.9913\n",
      "Epoch 13/50\n",
      "2351/2351 [==============================] - 4s 2ms/step - loss: 0.1569 - accuracy: 0.9467 - val_loss: 0.0464 - val_accuracy: 0.9904\n",
      "Epoch 14/50\n",
      "2351/2351 [==============================] - 4s 2ms/step - loss: 0.1466 - accuracy: 0.9513 - val_loss: 0.0404 - val_accuracy: 0.9916\n",
      "Epoch 15/50\n",
      "2351/2351 [==============================] - 5s 2ms/step - loss: 0.1395 - accuracy: 0.9522 - val_loss: 0.0431 - val_accuracy: 0.9917\n",
      "Epoch 16/50\n",
      "2351/2351 [==============================] - 5s 2ms/step - loss: 0.1301 - accuracy: 0.9568 - val_loss: 0.0451 - val_accuracy: 0.9913\n",
      "Epoch 17/50\n",
      "2351/2351 [==============================] - 5s 2ms/step - loss: 0.1272 - accuracy: 0.9567 - val_loss: 0.0454 - val_accuracy: 0.9916\n",
      "Epoch 18/50\n",
      "2351/2351 [==============================] - 5s 2ms/step - loss: 0.1236 - accuracy: 0.9590 - val_loss: 0.0444 - val_accuracy: 0.9919\n",
      "Epoch 19/50\n",
      "2351/2351 [==============================] - 5s 2ms/step - loss: 0.1197 - accuracy: 0.9600 - val_loss: 0.0421 - val_accuracy: 0.9929\n",
      "Epoch 20/50\n",
      "2351/2351 [==============================] - 5s 2ms/step - loss: 0.1156 - accuracy: 0.9606 - val_loss: 0.0455 - val_accuracy: 0.9922\n",
      "Epoch 21/50\n",
      "2351/2351 [==============================] - 4s 2ms/step - loss: 0.1109 - accuracy: 0.9632 - val_loss: 0.0465 - val_accuracy: 0.9925\n",
      "Epoch 22/50\n",
      "2351/2351 [==============================] - 4s 2ms/step - loss: 0.1078 - accuracy: 0.9647 - val_loss: 0.0484 - val_accuracy: 0.9925\n",
      "Epoch 23/50\n",
      "2351/2351 [==============================] - 4s 2ms/step - loss: 0.1003 - accuracy: 0.9664 - val_loss: 0.0456 - val_accuracy: 0.9926\n",
      "Epoch 24/50\n",
      "2351/2351 [==============================] - 4s 2ms/step - loss: 0.0984 - accuracy: 0.9672 - val_loss: 0.0539 - val_accuracy: 0.9918\n",
      "Epoch 25/50\n",
      "2351/2351 [==============================] - 4s 2ms/step - loss: 0.0984 - accuracy: 0.9676 - val_loss: 0.0531 - val_accuracy: 0.9924\n",
      "Epoch 26/50\n",
      "2351/2351 [==============================] - 4s 2ms/step - loss: 0.0977 - accuracy: 0.9674 - val_loss: 0.0432 - val_accuracy: 0.9934\n",
      "Epoch 27/50\n",
      "2351/2351 [==============================] - 4s 2ms/step - loss: 0.0938 - accuracy: 0.9686 - val_loss: 0.0479 - val_accuracy: 0.9934\n",
      "Epoch 28/50\n",
      "2351/2351 [==============================] - 4s 2ms/step - loss: 0.0913 - accuracy: 0.9705 - val_loss: 0.0486 - val_accuracy: 0.9934\n",
      "Epoch 29/50\n",
      "2351/2351 [==============================] - 4s 2ms/step - loss: 0.0907 - accuracy: 0.9701 - val_loss: 0.0527 - val_accuracy: 0.9934\n",
      "Epoch 30/50\n",
      "2351/2351 [==============================] - 4s 2ms/step - loss: 0.0857 - accuracy: 0.9722 - val_loss: 0.0578 - val_accuracy: 0.9922\n",
      "Epoch 31/50\n",
      "2351/2351 [==============================] - 4s 2ms/step - loss: 0.0878 - accuracy: 0.9706 - val_loss: 0.0465 - val_accuracy: 0.9937\n",
      "Epoch 32/50\n",
      "2351/2351 [==============================] - 4s 2ms/step - loss: 0.0870 - accuracy: 0.9721 - val_loss: 0.0512 - val_accuracy: 0.9936\n",
      "Epoch 33/50\n",
      "2351/2351 [==============================] - 4s 2ms/step - loss: 0.0828 - accuracy: 0.9726 - val_loss: 0.0511 - val_accuracy: 0.9937\n",
      "Epoch 34/50\n",
      "2351/2351 [==============================] - 4s 2ms/step - loss: 0.0842 - accuracy: 0.9722 - val_loss: 0.0590 - val_accuracy: 0.9928\n",
      "Epoch 35/50\n",
      "2351/2351 [==============================] - 4s 2ms/step - loss: 0.0832 - accuracy: 0.9729 - val_loss: 0.0564 - val_accuracy: 0.9921\n",
      "Epoch 36/50\n",
      "2351/2351 [==============================] - 4s 2ms/step - loss: 0.0797 - accuracy: 0.9735 - val_loss: 0.0592 - val_accuracy: 0.9929\n",
      "Epoch 37/50\n",
      "2351/2351 [==============================] - 4s 2ms/step - loss: 0.0825 - accuracy: 0.9726 - val_loss: 0.0538 - val_accuracy: 0.9937\n",
      "Epoch 38/50\n",
      "2351/2351 [==============================] - 4s 2ms/step - loss: 0.0813 - accuracy: 0.9737 - val_loss: 0.0526 - val_accuracy: 0.9934\n",
      "Epoch 39/50\n",
      "2351/2351 [==============================] - 4s 2ms/step - loss: 0.0813 - accuracy: 0.9733 - val_loss: 0.0559 - val_accuracy: 0.9933\n",
      "Epoch 40/50\n",
      "2351/2351 [==============================] - 4s 2ms/step - loss: 0.0804 - accuracy: 0.9745 - val_loss: 0.0551 - val_accuracy: 0.9931\n",
      "Epoch 41/50\n",
      "2351/2351 [==============================] - 4s 2ms/step - loss: 0.0799 - accuracy: 0.9746 - val_loss: 0.0554 - val_accuracy: 0.9937\n",
      "Epoch 42/50\n",
      "2351/2351 [==============================] - 4s 2ms/step - loss: 0.0761 - accuracy: 0.9742 - val_loss: 0.0633 - val_accuracy: 0.9930\n",
      "Epoch 43/50\n",
      "2351/2351 [==============================] - 4s 2ms/step - loss: 0.0739 - accuracy: 0.9757 - val_loss: 0.0633 - val_accuracy: 0.9931\n",
      "Epoch 44/50\n",
      "2351/2351 [==============================] - 4s 2ms/step - loss: 0.0744 - accuracy: 0.9756 - val_loss: 0.0570 - val_accuracy: 0.9916\n",
      "Epoch 45/50\n",
      "2351/2351 [==============================] - 4s 2ms/step - loss: 0.0724 - accuracy: 0.9766 - val_loss: 0.0595 - val_accuracy: 0.9935\n",
      "Epoch 46/50\n",
      "2351/2351 [==============================] - 5s 2ms/step - loss: 0.0751 - accuracy: 0.9749 - val_loss: 0.0546 - val_accuracy: 0.9934\n",
      "Epoch 47/50\n",
      "2351/2351 [==============================] - 4s 2ms/step - loss: 0.0701 - accuracy: 0.9770 - val_loss: 0.0657 - val_accuracy: 0.9931\n",
      "Epoch 48/50\n",
      "2351/2351 [==============================] - 4s 2ms/step - loss: 0.0731 - accuracy: 0.9768 - val_loss: 0.0551 - val_accuracy: 0.9937\n",
      "Epoch 49/50\n",
      "2351/2351 [==============================] - 4s 2ms/step - loss: 0.0685 - accuracy: 0.9782 - val_loss: 0.0616 - val_accuracy: 0.9938\n",
      "Epoch 50/50\n",
      "2351/2351 [==============================] - 4s 2ms/step - loss: 0.0690 - accuracy: 0.9778 - val_loss: 0.0565 - val_accuracy: 0.9930\n"
     ]
    }
   ],
   "source": [
    "history = model.fit(\n",
    "    x=x_train,\n",
    "    y=y_train,\n",
    "    batch_size=32,\n",
    "    epochs=50,\n",
    "    validation_split=0.15,\n",
    "    callbacks=[\n",
    "        ModelCheckpoint(f'./new-model.h5', save_best_only=True, monitor='val_loss', mode='min'),\n",
    "        # ModelCheckpoint(f'./new-model.h5', save_best_only=True, monitor='val_accuracy', mode='max'),\n",
    "    ]\n",
    ")"
   ]
  },
  {
   "cell_type": "code",
   "execution_count": 37,
   "id": "ccbf9e58",
   "metadata": {},
   "outputs": [
    {
     "data": {
      "image/png": "[encoded data removed]",
      "text/plain": [
       "<Figure size 1152x288 with 2 Axes>"
      ]
     },
     "metadata": {
      "needs_background": "light"
     },
     "output_type": "display_data"
    }
   ],
   "source": [
    "fig, axs = plt.subplots(1, 2, figsize=(16, 4))\n",
    "\n",
    "axs[0].plot(history.history['loss'], label='loss')\n",
    "axs[0].plot(history.history['val_loss'], label='valiodation loss')\n",
    "axs[0].legend()\n",
    "\n",
    "axs[1].plot(history.history['accuracy'], label='accuracy')\n",
    "axs[1].plot(history.history['val_accuracy'], label='valiodation accuracy')\n",
    "axs[1].legend()\n",
    "\n",
    "plt.show()"
   ]
  },
  {
   "cell_type": "code",
   "execution_count": 14,
   "id": "a5040a5b",
   "metadata": {},
   "outputs": [
    {
     "name": "stderr",
     "output_type": "stream",
     "text": [
      "2021-09-03 10:43:11.115626: I tensorflow/core/platform/cpu_feature_guard.cc:142] This TensorFlow binary is optimized with oneAPI Deep Neural Network Library (oneDNN) to use the following CPU instructions in performance-critical operations:  AVX2 FMA\n",
      "To enable them in other operations, rebuild TensorFlow with the appropriate compiler flags.\n",
      "2021-09-03 10:43:11.116030: I tensorflow/stream_executor/cuda/cuda_gpu_executor.cc:937] successful NUMA node read from SysFS had negative value (-1), but there must be at least one NUMA node, so returning NUMA node zero\n",
      "2021-09-03 10:43:11.116379: I tensorflow/stream_executor/cuda/cuda_gpu_executor.cc:937] successful NUMA node read from SysFS had negative value (-1), but there must be at least one NUMA node, so returning NUMA node zero\n",
      "2021-09-03 10:43:11.116670: I tensorflow/stream_executor/cuda/cuda_gpu_executor.cc:937] successful NUMA node read from SysFS had negative value (-1), but there must be at least one NUMA node, so returning NUMA node zero\n",
      "2021-09-03 10:43:11.421188: I tensorflow/stream_executor/cuda/cuda_gpu_executor.cc:937] successful NUMA node read from SysFS had negative value (-1), but there must be at least one NUMA node, so returning NUMA node zero\n",
      "2021-09-03 10:43:11.421496: I tensorflow/stream_executor/cuda/cuda_gpu_executor.cc:937] successful NUMA node read from SysFS had negative value (-1), but there must be at least one NUMA node, so returning NUMA node zero\n",
      "2021-09-03 10:43:11.421768: I tensorflow/stream_executor/cuda/cuda_gpu_executor.cc:937] successful NUMA node read from SysFS had negative value (-1), but there must be at least one NUMA node, so returning NUMA node zero\n",
      "2021-09-03 10:43:11.422018: I tensorflow/core/common_runtime/gpu/gpu_device.cc:1510] Created device /job:localhost/replica:0/task:0/device:GPU:0 with 4312 MB memory:  -> device: 0, name: NVIDIA GeForce RTX 2060, pci bus id: 0000:06:00.0, compute capability: 7.5\n"
     ]
    }
   ],
   "source": [
    "loaded_model = build_model()"
   ]
  },
  {
   "cell_type": "code",
   "execution_count": 15,
   "id": "147e6742",
   "metadata": {},
   "outputs": [],
   "source": [
    "loaded_model.load_weights('./new-model.h5')"
   ]
  },
  {
   "cell_type": "markdown",
   "id": "ce2af149",
   "metadata": {},
   "source": [
    "## Validation"
   ]
  },
  {
   "cell_type": "code",
   "execution_count": 16,
   "id": "0d895d21",
   "metadata": {},
   "outputs": [],
   "source": [
    "def predict(image: np.ndarray) -> str:\n",
    "    prediction = loaded_model.predict(image)\n",
    "    return TARGET_DECODER[np.argmax(prediction)]"
   ]
  },
  {
   "cell_type": "code",
   "execution_count": 17,
   "id": "dcbe7417",
   "metadata": {},
   "outputs": [],
   "source": [
    "def predict_many(images: np.ndarray):\n",
    "    predictions = loaded_model.predict(images)\n",
    "    return np.argmax(predictions, axis=1)"
   ]
  },
  {
   "cell_type": "code",
   "execution_count": 18,
   "id": "50816251",
   "metadata": {},
   "outputs": [
    {
     "name": "stderr",
     "output_type": "stream",
     "text": [
      "2021-09-03 10:43:13.241188: I tensorflow/compiler/mlir/mlir_graph_optimization_pass.cc:185] None of the MLIR Optimization Passes are enabled (registered 2)\n",
      "2021-09-03 10:43:13.582785: I tensorflow/stream_executor/cuda/cuda_dnn.cc:369] Loaded cuDNN version 8201\n"
     ]
    },
    {
     "data": {
      "image/png": "[encoded data removed]",
      "text/plain": [
       "<Figure size 1152x288 with 10 Axes>"
      ]
     },
     "metadata": {
      "needs_background": "light"
     },
     "output_type": "display_data"
    }
   ],
   "source": [
    "fig, axs = plt.subplots(2, 5, figsize=(16, 4))\n",
    "\n",
    "for i in range(len(axs)):\n",
    "    for j in range(len(axs[0])):\n",
    "        r = random.randint(0, len(x_test))\n",
    "        img = x_test[np.newaxis, r, :]\n",
    "\n",
    "        axs[i][j].imshow(img[0, :, :, 0], cmap='gray')\n",
    "        axs[i][j].set_title(predict(img))\n",
    "        axs[i][j].axis('off')"
   ]
  },
  {
   "cell_type": "markdown",
   "id": "913f64ff",
   "metadata": {},
   "source": [
    "## Validation"
   ]
  },
  {
   "cell_type": "code",
   "execution_count": 19,
   "id": "eb2712e6",
   "metadata": {},
   "outputs": [],
   "source": [
    "predicts = predict_many(x_test)"
   ]
  },
  {
   "cell_type": "code",
   "execution_count": 20,
   "id": "b913fa80",
   "metadata": {},
   "outputs": [
    {
     "name": "stdout",
     "output_type": "stream",
     "text": [
      "              precision    recall  f1-score   support\n",
      "\n",
      "           0       1.00      1.00      1.00      1445\n",
      "           1       0.97      0.95      0.96      1415\n",
      "           2       0.99      0.98      0.98      1368\n",
      "           3       0.99      0.99      0.99      1361\n",
      "           4       0.99      0.99      0.99      1386\n",
      "           5       1.00      0.99      1.00      1391\n",
      "           6       1.00      1.00      1.00      1382\n",
      "           7       0.99      1.00      1.00      1362\n",
      "           8       0.99      1.00      1.00      1423\n",
      "           9       0.99      1.00      1.00      1352\n",
      "          10       1.00      1.00      1.00      1348\n",
      "          11       1.00      1.00      1.00      1432\n",
      "          12       0.98      1.00      0.99      1430\n",
      "          13       0.97      0.98      0.97      1391\n",
      "          14       0.99      0.99      0.99      1329\n",
      "          15       1.00      1.00      1.00      1310\n",
      "\n",
      "    accuracy                           0.99     22125\n",
      "   macro avg       0.99      0.99      0.99     22125\n",
      "weighted avg       0.99      0.99      0.99     22125\n",
      "\n"
     ]
    }
   ],
   "source": [
    "print(classification_report(y_test, predicts))"
   ]
  },
  {
   "cell_type": "markdown",
   "id": "04747613",
   "metadata": {},
   "source": [
    "## Validation from outside"
   ]
  },
  {
   "cell_type": "code",
   "execution_count": 21,
   "id": "f7bc9860",
   "metadata": {},
   "outputs": [],
   "source": [
    "outside_image = get_image_from_file('../outside-number.png')\n",
    "outside_image = pre_processing(outside_image)"
   ]
  },
  {
   "cell_type": "code",
   "execution_count": 22,
   "id": "72916c7a",
   "metadata": {},
   "outputs": [
    {
     "data": {
      "text/plain": [
       "(45, 45, 1)"
      ]
     },
     "execution_count": 22,
     "metadata": {},
     "output_type": "execute_result"
    }
   ],
   "source": [
    "outside_image.shape"
   ]
  },
  {
   "cell_type": "code",
   "execution_count": 23,
   "id": "f86bc50f",
   "metadata": {},
   "outputs": [
    {
     "data": {
      "text/plain": [
       "<matplotlib.image.AxesImage at 0x7f5ad01d2340>"
      ]
     },
     "execution_count": 23,
     "metadata": {},
     "output_type": "execute_result"
    },
    {
     "data": {
      "image/png": "[encoded data removed]",
      "text/plain": [
       "<Figure size 432x288 with 1 Axes>"
      ]
     },
     "metadata": {
      "needs_background": "light"
     },
     "output_type": "display_data"
    }
   ],
   "source": [
    "plt.imshow(outside_image[:, :], cmap='gray')"
   ]
  },
  {
   "cell_type": "code",
   "execution_count": 25,
   "id": "f627579d",
   "metadata": {},
   "outputs": [
    {
     "data": {
      "text/plain": [
       "'5'"
      ]
     },
     "execution_count": 25,
     "metadata": {},
     "output_type": "execute_result"
    }
   ],
   "source": [
    "predict(outside_image[np.newaxis, :])"
   ]
  },
  {
   "cell_type": "code",
   "execution_count": null,
   "id": "9d17a12d",
   "metadata": {},
   "outputs": [],
   "source": []
  }
 ],
 "metadata": {
  "kernelspec": {
   "display_name": "Python 3 (ipykernel)",
   "language": "python",
   "name": "python3"
  },
  "language_info": {
   "codemirror_mode": {
    "name": "ipython",
    "version": 3
   },
   "file_extension": ".py",
   "mimetype": "text/x-python",
   "name": "python",
   "nbconvert_exporter": "python",
   "pygments_lexer": "ipython3",
   "version": "3.9.6"
  }
 },
 "nbformat": 4,
 "nbformat_minor": 5
}
