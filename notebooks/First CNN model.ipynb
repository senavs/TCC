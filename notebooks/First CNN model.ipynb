{
 "cells": [
  {
   "cell_type": "markdown",
   "id": "5a5e7ae1",
   "metadata": {},
   "source": [
    "# First CNN model (test)"
   ]
  },
  {
   "cell_type": "markdown",
   "id": "ac27a0be",
   "metadata": {},
   "source": [
    "## Import"
   ]
  },
  {
   "cell_type": "code",
   "execution_count": 1,
   "id": "e6348882",
   "metadata": {},
   "outputs": [],
   "source": [
    "import random\n",
    "import os\n",
    "from itertools import count\n",
    "from typing import Tuple\n",
    "\n",
    "import cv2\n",
    "import matplotlib.pyplot as plt\n",
    "import numpy as np\n",
    "import tensorflow as tf\n",
    "from keras.backend import clear_session\n",
    "from keras.callbacks import ModelCheckpoint\n",
    "from keras.layers import Input, Conv2D, MaxPooling2D, Dense, Flatten, Dropout\n",
    "from keras.models import Model\n",
    "from sklearn.model_selection import train_test_split"
   ]
  },
  {
   "cell_type": "code",
   "execution_count": 2,
   "id": "1825cbbd",
   "metadata": {},
   "outputs": [
    {
     "name": "stdout",
     "output_type": "stream",
     "text": [
      "Num GPUs Available:  1\n"
     ]
    },
    {
     "name": "stderr",
     "output_type": "stream",
     "text": [
      "2021-08-28 23:17:51.990228: I tensorflow/stream_executor/cuda/cuda_gpu_executor.cc:937] successful NUMA node read from SysFS had negative value (-1), but there must be at least one NUMA node, so returning NUMA node zero\n",
      "2021-08-28 23:17:51.994537: I tensorflow/stream_executor/cuda/cuda_gpu_executor.cc:937] successful NUMA node read from SysFS had negative value (-1), but there must be at least one NUMA node, so returning NUMA node zero\n",
      "2021-08-28 23:17:51.994848: I tensorflow/stream_executor/cuda/cuda_gpu_executor.cc:937] successful NUMA node read from SysFS had negative value (-1), but there must be at least one NUMA node, so returning NUMA node zero\n"
     ]
    }
   ],
   "source": [
    "print(\"Num GPUs Available: \", len(tf.config.list_physical_devices('GPU')))"
   ]
  },
  {
   "cell_type": "markdown",
   "id": "c507ceb0",
   "metadata": {},
   "source": [
    "## Config variables"
   ]
  },
  {
   "cell_type": "code",
   "execution_count": 3,
   "id": "8378a967",
   "metadata": {},
   "outputs": [],
   "source": [
    "DATASET_PATH = '../dataset/'\n",
    "DATASET_IMAGES_PATH = {folder: os.path.join(DATASET_PATH, folder) for folder in os.listdir(DATASET_PATH)}\n",
    "DATASET_IMAGES_FLAG = cv2.IMREAD_GRAYSCALE\n",
    "DATASET_IMAGES_SHAPE = (45, 45, 1)\n",
    "\n",
    "TARGET_DECODER = {i: target for i, target in enumerate(sorted(DATASET_IMAGES_PATH))}\n",
    "TARGET_ENCODER = dict((value, key) for key, value in TARGET_DECODER.items())\n",
    "TARGETS_SIZES = {name: len(os.listdir(os.path.join(DATASET_PATH, name))) for name in os.listdir(DATASET_PATH)}\n",
    "\n",
    "DATASET_LEN = 3068 * len(DATASET_IMAGES_PATH)  # lenght of '8' folder\n",
    "\n",
    "FIT_RANDOM_STATE = 101\n",
    "FIT_TEST_SIZE = 0.20"
   ]
  },
  {
   "cell_type": "code",
   "execution_count": 4,
   "id": "e50a1d26",
   "metadata": {},
   "outputs": [],
   "source": [
    "random.seed(FIT_RANDOM_STATE)"
   ]
  },
  {
   "cell_type": "code",
   "execution_count": 5,
   "id": "9b14170c",
   "metadata": {},
   "outputs": [
    {
     "data": {
      "text/plain": [
       "[('div', 868),\n",
       " ('7', 2909),\n",
       " ('8', 3068),\n",
       " ('6', 3118),\n",
       " ('times', 3251),\n",
       " ('5', 3545),\n",
       " ('9', 3737),\n",
       " ('0', 6914),\n",
       " ('4', 7396),\n",
       " ('3', 10909),\n",
       " ('parenthesis-opened', 14294),\n",
       " ('parenthesis-closed', 14355),\n",
       " ('plus', 25112),\n",
       " ('2', 26141),\n",
       " ('1', 26520),\n",
       " ('minus', 33997)]"
      ]
     },
     "execution_count": 5,
     "metadata": {},
     "output_type": "execute_result"
    }
   ],
   "source": [
    "list(sorted(TARGETS_SIZES.items(), key=lambda x: x[1]))"
   ]
  },
  {
   "cell_type": "markdown",
   "id": "4e4d5187",
   "metadata": {},
   "source": [
    "## Processing functions"
   ]
  },
  {
   "cell_type": "code",
   "execution_count": 6,
   "id": "6959eda0",
   "metadata": {},
   "outputs": [],
   "source": [
    "def pre_processing(image: np.ndarray) -> np.ndarray:\n",
    "    image = cv2.resize(image, DATASET_IMAGES_SHAPE[:2])\n",
    "    image = image[:, :, np.newaxis]\n",
    "    image = image / 255.\n",
    "    return image"
   ]
  },
  {
   "cell_type": "code",
   "execution_count": 7,
   "id": "1eacf6d0",
   "metadata": {},
   "outputs": [],
   "source": [
    "def get_image_from_file(file_path: str) -> np.ndarray:\n",
    "    image = cv2.imread(file_path, DATASET_IMAGES_FLAG)\n",
    "    if image is None:\n",
    "        raise FileNotFoundError(f'Could not find {file_path!r} file')\n",
    "    return image"
   ]
  },
  {
   "cell_type": "code",
   "execution_count": 8,
   "id": "8781ed9b",
   "metadata": {},
   "outputs": [],
   "source": [
    "def load_all() -> Tuple[np.ndarray, np.ndarray]:\n",
    "    x = np.zeros((DATASET_LEN,) + DATASET_IMAGES_SHAPE)\n",
    "    y = []\n",
    "    \n",
    "    counter = count(-1)\n",
    "    for folder, folder_path in DATASET_IMAGES_PATH.items():\n",
    "        for file_name in random.choices(os.listdir(folder_path), k=3068):  # length of '8' folder\n",
    "            file_path = os.path.join(folder_path, file_name)\n",
    "            \n",
    "            image = pre_processing(get_image_from_file(file_path))\n",
    "            x[next(counter), :, :, :] = image\n",
    "            y.append(TARGET_ENCODER[folder])\n",
    "    return x, np.array(y)"
   ]
  },
  {
   "cell_type": "code",
   "execution_count": 9,
   "id": "9a4e1366",
   "metadata": {
    "scrolled": true
   },
   "outputs": [],
   "source": [
    "x, y = load_all()"
   ]
  },
  {
   "cell_type": "code",
   "execution_count": 10,
   "id": "25eb25ee",
   "metadata": {},
   "outputs": [
    {
     "data": {
      "text/plain": [
       "(49088, 45, 45, 1)"
      ]
     },
     "execution_count": 10,
     "metadata": {},
     "output_type": "execute_result"
    }
   ],
   "source": [
    "x.shape"
   ]
  },
  {
   "cell_type": "markdown",
   "id": "29a18cfe",
   "metadata": {},
   "source": [
    "## Train Test Split"
   ]
  },
  {
   "cell_type": "code",
   "execution_count": 11,
   "id": "b4f4d8d3",
   "metadata": {},
   "outputs": [],
   "source": [
    "x_train, x_test, y_train, y_test = train_test_split(x, y, random_state=FIT_RANDOM_STATE, test_size=FIT_TEST_SIZE)"
   ]
  },
  {
   "cell_type": "code",
   "execution_count": 12,
   "id": "9977d9fc",
   "metadata": {},
   "outputs": [
    {
     "data": {
      "text/plain": [
       "((39270, 45, 45, 1), (9818, 45, 45, 1), (39270,), (9818,))"
      ]
     },
     "execution_count": 12,
     "metadata": {},
     "output_type": "execute_result"
    }
   ],
   "source": [
    "x_train.shape, x_test.shape, y_train.shape, y_test.shape"
   ]
  },
  {
   "cell_type": "markdown",
   "id": "1bdcd26c",
   "metadata": {},
   "source": [
    "## Model"
   ]
  },
  {
   "cell_type": "code",
   "execution_count": 13,
   "id": "cd833521",
   "metadata": {},
   "outputs": [],
   "source": [
    "def build_model() -> Model:\n",
    "    input_ = Input(shape=DATASET_IMAGES_SHAPE)\n",
    "    \n",
    "    x = Conv2D(32, kernel_size=(3, 3), padding='same', activation='relu')(input_)\n",
    "    x = MaxPooling2D(pool_size=(2, 2), padding='same')(x)\n",
    "    x = Dropout(0.25)(x)\n",
    "\n",
    "    x = Flatten()(x)\n",
    "    \n",
    "    x = Dense(64, activation='relu')(x)\n",
    "    x = Dropout(0.5)(x)\n",
    "    output = Dense(len(TARGET_ENCODER), activation='softmax')(x)\n",
    "    \n",
    "    \n",
    "    model = Model(input_, output)\n",
    "    model.compile(loss='sparse_categorical_crossentropy', optimizer='adam',metrics=[\"accuracy\"])\n",
    "    \n",
    "    return model"
   ]
  },
  {
   "cell_type": "code",
   "execution_count": 14,
   "id": "ee3175fb",
   "metadata": {},
   "outputs": [
    {
     "name": "stderr",
     "output_type": "stream",
     "text": [
      "2021-08-28 23:17:55.510320: I tensorflow/core/platform/cpu_feature_guard.cc:142] This TensorFlow binary is optimized with oneAPI Deep Neural Network Library (oneDNN) to use the following CPU instructions in performance-critical operations:  AVX2 FMA\n",
      "To enable them in other operations, rebuild TensorFlow with the appropriate compiler flags.\n",
      "2021-08-28 23:17:55.510735: I tensorflow/stream_executor/cuda/cuda_gpu_executor.cc:937] successful NUMA node read from SysFS had negative value (-1), but there must be at least one NUMA node, so returning NUMA node zero\n",
      "2021-08-28 23:17:55.511091: I tensorflow/stream_executor/cuda/cuda_gpu_executor.cc:937] successful NUMA node read from SysFS had negative value (-1), but there must be at least one NUMA node, so returning NUMA node zero\n",
      "2021-08-28 23:17:55.511381: I tensorflow/stream_executor/cuda/cuda_gpu_executor.cc:937] successful NUMA node read from SysFS had negative value (-1), but there must be at least one NUMA node, so returning NUMA node zero\n",
      "2021-08-28 23:17:55.815562: I tensorflow/stream_executor/cuda/cuda_gpu_executor.cc:937] successful NUMA node read from SysFS had negative value (-1), but there must be at least one NUMA node, so returning NUMA node zero\n",
      "2021-08-28 23:17:55.815870: I tensorflow/stream_executor/cuda/cuda_gpu_executor.cc:937] successful NUMA node read from SysFS had negative value (-1), but there must be at least one NUMA node, so returning NUMA node zero\n",
      "2021-08-28 23:17:55.816147: I tensorflow/stream_executor/cuda/cuda_gpu_executor.cc:937] successful NUMA node read from SysFS had negative value (-1), but there must be at least one NUMA node, so returning NUMA node zero\n",
      "2021-08-28 23:17:55.816398: I tensorflow/core/common_runtime/gpu/gpu_device.cc:1510] Created device /job:localhost/replica:0/task:0/device:GPU:0 with 4435 MB memory:  -> device: 0, name: NVIDIA GeForce RTX 2060, pci bus id: 0000:06:00.0, compute capability: 7.5\n"
     ]
    }
   ],
   "source": [
    "model = build_model()"
   ]
  },
  {
   "cell_type": "code",
   "execution_count": 15,
   "id": "5b33b009",
   "metadata": {},
   "outputs": [
    {
     "name": "stdout",
     "output_type": "stream",
     "text": [
      "Model: \"model\"\n",
      "_________________________________________________________________\n",
      "Layer (type)                 Output Shape              Param #   \n",
      "=================================================================\n",
      "input_1 (InputLayer)         [(None, 45, 45, 1)]       0         \n",
      "_________________________________________________________________\n",
      "conv2d (Conv2D)              (None, 45, 45, 32)        320       \n",
      "_________________________________________________________________\n",
      "max_pooling2d (MaxPooling2D) (None, 23, 23, 32)        0         \n",
      "_________________________________________________________________\n",
      "dropout (Dropout)            (None, 23, 23, 32)        0         \n",
      "_________________________________________________________________\n",
      "flatten (Flatten)            (None, 16928)             0         \n",
      "_________________________________________________________________\n",
      "dense (Dense)                (None, 64)                1083456   \n",
      "_________________________________________________________________\n",
      "dropout_1 (Dropout)          (None, 64)                0         \n",
      "_________________________________________________________________\n",
      "dense_1 (Dense)              (None, 16)                1040      \n",
      "=================================================================\n",
      "Total params: 1,084,816\n",
      "Trainable params: 1,084,816\n",
      "Non-trainable params: 0\n",
      "_________________________________________________________________\n"
     ]
    }
   ],
   "source": [
    "model.summary()"
   ]
  },
  {
   "cell_type": "markdown",
   "id": "10df249f",
   "metadata": {},
   "source": [
    "## Fitting"
   ]
  },
  {
   "cell_type": "code",
   "execution_count": 16,
   "id": "cdc93fd5",
   "metadata": {
    "scrolled": true
   },
   "outputs": [
    {
     "name": "stderr",
     "output_type": "stream",
     "text": [
      "2021-08-28 23:17:57.639807: I tensorflow/compiler/mlir/mlir_graph_optimization_pass.cc:185] None of the MLIR Optimization Passes are enabled (registered 2)\n"
     ]
    },
    {
     "name": "stdout",
     "output_type": "stream",
     "text": [
      "Epoch 1/50\n"
     ]
    },
    {
     "name": "stderr",
     "output_type": "stream",
     "text": [
      "2021-08-28 23:17:58.140235: I tensorflow/stream_executor/cuda/cuda_dnn.cc:369] Loaded cuDNN version 8201\n"
     ]
    },
    {
     "name": "stdout",
     "output_type": "stream",
     "text": [
      "1105/1105 [==============================] - 3s 2ms/step - loss: 1.7980 - accuracy: 0.3738 - val_loss: 0.7592 - val_accuracy: 0.8419\n",
      "Epoch 2/50\n",
      "1105/1105 [==============================] - 2s 2ms/step - loss: 1.2882 - accuracy: 0.5342 - val_loss: 0.4795 - val_accuracy: 0.9137\n",
      "Epoch 3/50\n",
      "1105/1105 [==============================] - 2s 2ms/step - loss: 1.0855 - accuracy: 0.6102 - val_loss: 0.3363 - val_accuracy: 0.9374\n",
      "Epoch 4/50\n",
      "1105/1105 [==============================] - 2s 2ms/step - loss: 0.9461 - accuracy: 0.6643 - val_loss: 0.2724 - val_accuracy: 0.9435\n",
      "Epoch 5/50\n",
      "1105/1105 [==============================] - 2s 2ms/step - loss: 0.7818 - accuracy: 0.7265 - val_loss: 0.2157 - val_accuracy: 0.9587\n",
      "Epoch 6/50\n",
      "1105/1105 [==============================] - 2s 2ms/step - loss: 0.7258 - accuracy: 0.7519 - val_loss: 0.1949 - val_accuracy: 0.9595\n",
      "Epoch 7/50\n",
      "1105/1105 [==============================] - 2s 2ms/step - loss: 0.6657 - accuracy: 0.7676 - val_loss: 0.1709 - val_accuracy: 0.9643\n",
      "Epoch 8/50\n",
      "1105/1105 [==============================] - 2s 2ms/step - loss: 0.6016 - accuracy: 0.7947 - val_loss: 0.1545 - val_accuracy: 0.9664\n",
      "Epoch 9/50\n",
      "1105/1105 [==============================] - 2s 2ms/step - loss: 0.5811 - accuracy: 0.8023 - val_loss: 0.1570 - val_accuracy: 0.9661\n",
      "Epoch 10/50\n",
      "1105/1105 [==============================] - 2s 2ms/step - loss: 0.5292 - accuracy: 0.8209 - val_loss: 0.1322 - val_accuracy: 0.9705\n",
      "Epoch 11/50\n",
      "1105/1105 [==============================] - 2s 2ms/step - loss: 0.4569 - accuracy: 0.8410 - val_loss: 0.1328 - val_accuracy: 0.9753\n",
      "Epoch 12/50\n",
      "1105/1105 [==============================] - 2s 2ms/step - loss: 0.4320 - accuracy: 0.8519 - val_loss: 0.1249 - val_accuracy: 0.9763\n",
      "Epoch 13/50\n",
      "1105/1105 [==============================] - 2s 2ms/step - loss: 0.4131 - accuracy: 0.8583 - val_loss: 0.1252 - val_accuracy: 0.9740\n",
      "Epoch 14/50\n",
      "1105/1105 [==============================] - 2s 2ms/step - loss: 0.3813 - accuracy: 0.8681 - val_loss: 0.1189 - val_accuracy: 0.9756\n",
      "Epoch 15/50\n",
      "1105/1105 [==============================] - 2s 2ms/step - loss: 0.3545 - accuracy: 0.8768 - val_loss: 0.1181 - val_accuracy: 0.9771\n",
      "Epoch 16/50\n",
      "1105/1105 [==============================] - 2s 2ms/step - loss: 0.3457 - accuracy: 0.8814 - val_loss: 0.1227 - val_accuracy: 0.9763\n",
      "Epoch 17/50\n",
      "1105/1105 [==============================] - 2s 2ms/step - loss: 0.3195 - accuracy: 0.8900 - val_loss: 0.1157 - val_accuracy: 0.9781\n",
      "Epoch 18/50\n",
      "1105/1105 [==============================] - 2s 2ms/step - loss: 0.3137 - accuracy: 0.8926 - val_loss: 0.1186 - val_accuracy: 0.9812\n",
      "Epoch 19/50\n",
      "1105/1105 [==============================] - 2s 2ms/step - loss: 0.3019 - accuracy: 0.8938 - val_loss: 0.1238 - val_accuracy: 0.9773\n",
      "Epoch 20/50\n",
      "1105/1105 [==============================] - 2s 2ms/step - loss: 0.2976 - accuracy: 0.8963 - val_loss: 0.1247 - val_accuracy: 0.9781\n",
      "Epoch 21/50\n",
      "1105/1105 [==============================] - 2s 2ms/step - loss: 0.2895 - accuracy: 0.9001 - val_loss: 0.1212 - val_accuracy: 0.9786\n",
      "Epoch 22/50\n",
      "1105/1105 [==============================] - 2s 2ms/step - loss: 0.2860 - accuracy: 0.8996 - val_loss: 0.1218 - val_accuracy: 0.9809\n",
      "Epoch 23/50\n",
      "1105/1105 [==============================] - 2s 2ms/step - loss: 0.2760 - accuracy: 0.9027 - val_loss: 0.1240 - val_accuracy: 0.9809\n",
      "Epoch 24/50\n",
      "1105/1105 [==============================] - 2s 2ms/step - loss: 0.2690 - accuracy: 0.9071 - val_loss: 0.1221 - val_accuracy: 0.9812\n",
      "Epoch 25/50\n",
      "1105/1105 [==============================] - 2s 2ms/step - loss: 0.2573 - accuracy: 0.9109 - val_loss: 0.1278 - val_accuracy: 0.9819\n",
      "Epoch 26/50\n",
      "1105/1105 [==============================] - 2s 2ms/step - loss: 0.2548 - accuracy: 0.9113 - val_loss: 0.1306 - val_accuracy: 0.9778\n",
      "Epoch 27/50\n",
      "1105/1105 [==============================] - 2s 2ms/step - loss: 0.2477 - accuracy: 0.9131 - val_loss: 0.1370 - val_accuracy: 0.9801\n",
      "Epoch 28/50\n",
      "1105/1105 [==============================] - 2s 2ms/step - loss: 0.2383 - accuracy: 0.9163 - val_loss: 0.1311 - val_accuracy: 0.9827\n",
      "Epoch 29/50\n",
      "1105/1105 [==============================] - 2s 2ms/step - loss: 0.2366 - accuracy: 0.9191 - val_loss: 0.1318 - val_accuracy: 0.9832\n",
      "Epoch 30/50\n",
      "1105/1105 [==============================] - 2s 2ms/step - loss: 0.2263 - accuracy: 0.9227 - val_loss: 0.1337 - val_accuracy: 0.9812\n",
      "Epoch 31/50\n",
      "1105/1105 [==============================] - 2s 2ms/step - loss: 0.2198 - accuracy: 0.9245 - val_loss: 0.1402 - val_accuracy: 0.9819\n",
      "Epoch 32/50\n",
      "1105/1105 [==============================] - 2s 2ms/step - loss: 0.2206 - accuracy: 0.9248 - val_loss: 0.1256 - val_accuracy: 0.9845\n",
      "Epoch 33/50\n",
      "1105/1105 [==============================] - 2s 2ms/step - loss: 0.2231 - accuracy: 0.9239 - val_loss: 0.1335 - val_accuracy: 0.9832\n",
      "Epoch 34/50\n",
      "1105/1105 [==============================] - 2s 2ms/step - loss: 0.2128 - accuracy: 0.9258 - val_loss: 0.1307 - val_accuracy: 0.9845\n",
      "Epoch 35/50\n",
      "1105/1105 [==============================] - 2s 2ms/step - loss: 0.2104 - accuracy: 0.9284 - val_loss: 0.1428 - val_accuracy: 0.9824\n",
      "Epoch 36/50\n",
      "1105/1105 [==============================] - 2s 2ms/step - loss: 0.2074 - accuracy: 0.9285 - val_loss: 0.1426 - val_accuracy: 0.9852\n",
      "Epoch 37/50\n",
      "1105/1105 [==============================] - 2s 2ms/step - loss: 0.2032 - accuracy: 0.9293 - val_loss: 0.1487 - val_accuracy: 0.9840\n",
      "Epoch 38/50\n",
      "1105/1105 [==============================] - 2s 2ms/step - loss: 0.2052 - accuracy: 0.9296 - val_loss: 0.1491 - val_accuracy: 0.9832\n",
      "Epoch 39/50\n",
      "1105/1105 [==============================] - 2s 2ms/step - loss: 0.2070 - accuracy: 0.9293 - val_loss: 0.1513 - val_accuracy: 0.9832\n",
      "Epoch 40/50\n",
      "1105/1105 [==============================] - 2s 2ms/step - loss: 0.1956 - accuracy: 0.9326 - val_loss: 0.1506 - val_accuracy: 0.9837\n",
      "Epoch 41/50\n",
      "1105/1105 [==============================] - 2s 2ms/step - loss: 0.1957 - accuracy: 0.9324 - val_loss: 0.1521 - val_accuracy: 0.9829\n",
      "Epoch 42/50\n",
      "1105/1105 [==============================] - 2s 2ms/step - loss: 0.1985 - accuracy: 0.9323 - val_loss: 0.1569 - val_accuracy: 0.9822\n",
      "Epoch 43/50\n",
      "1105/1105 [==============================] - 2s 2ms/step - loss: 0.1973 - accuracy: 0.9335 - val_loss: 0.1598 - val_accuracy: 0.9822\n",
      "Epoch 44/50\n",
      "1105/1105 [==============================] - 2s 2ms/step - loss: 0.1989 - accuracy: 0.9317 - val_loss: 0.1684 - val_accuracy: 0.9819\n",
      "Epoch 45/50\n",
      "1105/1105 [==============================] - 2s 2ms/step - loss: 0.1942 - accuracy: 0.9328 - val_loss: 0.1629 - val_accuracy: 0.9829\n",
      "Epoch 46/50\n",
      "1105/1105 [==============================] - 2s 2ms/step - loss: 0.1965 - accuracy: 0.9329 - val_loss: 0.1670 - val_accuracy: 0.9819\n",
      "Epoch 47/50\n",
      "1105/1105 [==============================] - 2s 2ms/step - loss: 0.1953 - accuracy: 0.9302 - val_loss: 0.1611 - val_accuracy: 0.9817\n",
      "Epoch 48/50\n",
      "1105/1105 [==============================] - 2s 2ms/step - loss: 0.1873 - accuracy: 0.9355 - val_loss: 0.1590 - val_accuracy: 0.9834\n",
      "Epoch 49/50\n",
      "1105/1105 [==============================] - 2s 2ms/step - loss: 0.1874 - accuracy: 0.9343 - val_loss: 0.1733 - val_accuracy: 0.9817\n",
      "Epoch 50/50\n",
      "1105/1105 [==============================] - 2s 2ms/step - loss: 0.1892 - accuracy: 0.9348 - val_loss: 0.1641 - val_accuracy: 0.9837\n"
     ]
    }
   ],
   "source": [
    "history = model.fit(\n",
    "    x=x_train,\n",
    "    y=y_train,\n",
    "    batch_size=32,\n",
    "    epochs=50,\n",
    "    validation_split=0.1,\n",
    "    callbacks=[ModelCheckpoint(f'./model.h5', save_best_only=True, mode='min')]\n",
    ")"
   ]
  },
  {
   "cell_type": "code",
   "execution_count": 17,
   "id": "ccbf9e58",
   "metadata": {},
   "outputs": [
    {
     "data": {
      "image/png": "[encoded data removed]",
      "text/plain": [
       "<Figure size 1152x288 with 2 Axes>"
      ]
     },
     "metadata": {
      "needs_background": "light"
     },
     "output_type": "display_data"
    }
   ],
   "source": [
    "fig, axs = plt.subplots(1, 2, figsize=(16, 4))\n",
    "\n",
    "axs[0].plot(history.history['loss'], label='loss')\n",
    "axs[0].plot(history.history['val_loss'], label='valiodation loss')\n",
    "axs[0].legend()\n",
    "\n",
    "axs[1].plot(history.history['accuracy'], label='accuracy')\n",
    "axs[1].plot(history.history['val_accuracy'], label='valiodation accuracy')\n",
    "axs[1].legend()\n",
    "\n",
    "plt.show()"
   ]
  },
  {
   "cell_type": "code",
   "execution_count": 18,
   "id": "a5040a5b",
   "metadata": {},
   "outputs": [],
   "source": [
    "loaded_model = build_model()"
   ]
  },
  {
   "cell_type": "code",
   "execution_count": 19,
   "id": "147e6742",
   "metadata": {},
   "outputs": [],
   "source": [
    "loaded_model.load_weights('./model.h5')"
   ]
  },
  {
   "cell_type": "markdown",
   "id": "ce2af149",
   "metadata": {},
   "source": [
    "## Validation"
   ]
  },
  {
   "cell_type": "code",
   "execution_count": 20,
   "id": "0d895d21",
   "metadata": {},
   "outputs": [],
   "source": [
    "def predict(image: np.ndarray) -> str:\n",
    "    prediction = loaded_model.predict(image)\n",
    "    return TARGET_DECODER[np.argmax(prediction)]"
   ]
  },
  {
   "cell_type": "code",
   "execution_count": 21,
   "id": "50816251",
   "metadata": {},
   "outputs": [
    {
     "data": {
      "image/png": "[encoded data removed]",
      "text/plain": [
       "<Figure size 1152x288 with 10 Axes>"
      ]
     },
     "metadata": {
      "needs_background": "light"
     },
     "output_type": "display_data"
    }
   ],
   "source": [
    "fig, axs = plt.subplots(2, 5, figsize=(16, 4))\n",
    "\n",
    "for i in range(len(axs)):\n",
    "    for j in range(len(axs[0])):\n",
    "        r = random.randint(0, len(x_test))\n",
    "        img = x_test[np.newaxis, r, :]\n",
    "\n",
    "        axs[i][j].imshow(img[0, :, :, 0], cmap='gray')\n",
    "        axs[i][j].set_title(predict(img))\n",
    "        axs[i][j].axis('off')"
   ]
  },
  {
   "cell_type": "markdown",
   "id": "04747613",
   "metadata": {},
   "source": [
    "## Validation from outside"
   ]
  },
  {
   "cell_type": "code",
   "execution_count": 22,
   "id": "f7bc9860",
   "metadata": {},
   "outputs": [],
   "source": [
    "outside_image = get_image_from_file('../outside-number.png')\n",
    "outside_image = pre_processing(outside_image)"
   ]
  },
  {
   "cell_type": "code",
   "execution_count": 23,
   "id": "72916c7a",
   "metadata": {},
   "outputs": [
    {
     "data": {
      "text/plain": [
       "(45, 45, 1)"
      ]
     },
     "execution_count": 23,
     "metadata": {},
     "output_type": "execute_result"
    }
   ],
   "source": [
    "outside_image.shape"
   ]
  },
  {
   "cell_type": "code",
   "execution_count": 24,
   "id": "f86bc50f",
   "metadata": {},
   "outputs": [
    {
     "data": {
      "text/plain": [
       "<matplotlib.image.AxesImage at 0x7f78500ba4f0>"
      ]
     },
     "execution_count": 24,
     "metadata": {},
     "output_type": "execute_result"
    },
    {
     "data": {
      "image/png": "[encoded data removed]",
      "text/plain": [
       "<Figure size 432x288 with 1 Axes>"
      ]
     },
     "metadata": {
      "needs_background": "light"
     },
     "output_type": "display_data"
    }
   ],
   "source": [
    "plt.imshow(outside_image[:, :], cmap='gray')"
   ]
  },
  {
   "cell_type": "code",
   "execution_count": 25,
   "id": "f627579d",
   "metadata": {},
   "outputs": [
    {
     "data": {
      "text/plain": [
       "'5'"
      ]
     },
     "execution_count": 25,
     "metadata": {},
     "output_type": "execute_result"
    }
   ],
   "source": [
    "predict(outside_image[np.newaxis, :])"
   ]
  },
  {
   "cell_type": "code",
   "execution_count": null,
   "id": "9d17a12d",
   "metadata": {},
   "outputs": [],
   "source": []
  }
 ],
 "metadata": {
  "kernelspec": {
   "display_name": "Python 3 (ipykernel)",
   "language": "python",
   "name": "python3"
  },
  "language_info": {
   "codemirror_mode": {
    "name": "ipython",
    "version": 3
   },
   "file_extension": ".py",
   "mimetype": "text/x-python",
   "name": "python",
   "nbconvert_exporter": "python",
   "pygments_lexer": "ipython3",
   "version": "3.9.6"
  }
 },
 "nbformat": 4,
 "nbformat_minor": 5
}
