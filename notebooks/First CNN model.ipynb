{
 "cells": [
  {
   "cell_type": "markdown",
   "id": "5a5e7ae1",
   "metadata": {},
   "source": [
    "# First CNN model (test)"
   ]
  },
  {
   "cell_type": "markdown",
   "id": "ac27a0be",
   "metadata": {},
   "source": [
    "## Import"
   ]
  },
  {
   "cell_type": "code",
   "execution_count": 1,
   "id": "e6348882",
   "metadata": {},
   "outputs": [],
   "source": [
    "import random\n",
    "import os\n",
    "from itertools import count\n",
    "from typing import Tuple\n",
    "\n",
    "import cv2\n",
    "import matplotlib.pyplot as plt\n",
    "import numpy as np\n",
    "import pandas as pd\n",
    "import tensorflow as tf\n",
    "from keras.backend import clear_session\n",
    "from keras.callbacks import ModelCheckpoint\n",
    "from keras.layers import Input, Conv2D, MaxPooling2D, Dense, Flatten, Dropout\n",
    "from keras.models import Model\n",
    "from sklearn.model_selection import train_test_split\n",
    "from sklearn.metrics import classification_report"
   ]
  },
  {
   "cell_type": "code",
   "execution_count": 2,
   "id": "1825cbbd",
   "metadata": {},
   "outputs": [
    {
     "name": "stdout",
     "output_type": "stream",
     "text": [
      "Num GPUs Available: 1\n"
     ]
    },
    {
     "name": "stderr",
     "output_type": "stream",
     "text": [
      "2021-10-24 18:59:22.477840: I tensorflow/stream_executor/cuda/cuda_gpu_executor.cc:937] successful NUMA node read from SysFS had negative value (-1), but there must be at least one NUMA node, so returning NUMA node zero\n",
      "2021-10-24 18:59:22.482376: I tensorflow/stream_executor/cuda/cuda_gpu_executor.cc:937] successful NUMA node read from SysFS had negative value (-1), but there must be at least one NUMA node, so returning NUMA node zero\n",
      "2021-10-24 18:59:22.482734: I tensorflow/stream_executor/cuda/cuda_gpu_executor.cc:937] successful NUMA node read from SysFS had negative value (-1), but there must be at least one NUMA node, so returning NUMA node zero\n"
     ]
    }
   ],
   "source": [
    "print(\"Num GPUs Available:\", len(tf.config.list_physical_devices('GPU')))"
   ]
  },
  {
   "cell_type": "markdown",
   "id": "c507ceb0",
   "metadata": {},
   "source": [
    "## Config variables"
   ]
  },
  {
   "cell_type": "code",
   "execution_count": 3,
   "id": "8378a967",
   "metadata": {},
   "outputs": [],
   "source": [
    "DATASET_PATH = '../dataset/'\n",
    "DATASET_IMAGES_PATH = {folder: os.path.join(DATASET_PATH, folder) for folder in os.listdir(DATASET_PATH)}\n",
    "DATASET_IMAGES_FLAG = cv2.IMREAD_GRAYSCALE\n",
    "DATASET_IMAGES_SHAPE = (45, 45, 1)\n",
    "\n",
    "TARGET_DECODER = {i: target for i, target in enumerate(sorted(DATASET_IMAGES_PATH))}\n",
    "TARGET_ENCODER = dict((value, key) for key, value in TARGET_DECODER.items())\n",
    "TARGETS_SIZES = {name: len(os.listdir(os.path.join(DATASET_PATH, name))) for name in os.listdir(DATASET_PATH)}\n",
    "\n",
    "CUT_DATASET = 3737  # lenght of '8' folder\n",
    "DATASET_LEN = CUT_DATASET * len(DATASET_IMAGES_PATH)\n",
    "\n",
    "FIT_RANDOM_STATE = 101\n",
    "FIT_TEST_SIZE = 0.20"
   ]
  },
  {
   "cell_type": "code",
   "execution_count": 4,
   "id": "a13f355d",
   "metadata": {},
   "outputs": [
    {
     "data": {
      "text/html": [
       "<div>\n",
       "<style scoped>\n",
       "    .dataframe tbody tr th:only-of-type {\n",
       "        vertical-align: middle;\n",
       "    }\n",
       "\n",
       "    .dataframe tbody tr th {\n",
       "        vertical-align: top;\n",
       "    }\n",
       "\n",
       "    .dataframe thead th {\n",
       "        text-align: right;\n",
       "    }\n",
       "</style>\n",
       "<table border=\"1\" class=\"dataframe\">\n",
       "  <thead>\n",
       "    <tr style=\"text-align: right;\">\n",
       "      <th></th>\n",
       "      <th>encode</th>\n",
       "      <th>class_name</th>\n",
       "    </tr>\n",
       "  </thead>\n",
       "  <tbody>\n",
       "    <tr>\n",
       "      <th>0</th>\n",
       "      <td>0</td>\n",
       "      <td>0</td>\n",
       "    </tr>\n",
       "    <tr>\n",
       "      <th>1</th>\n",
       "      <td>1</td>\n",
       "      <td>1</td>\n",
       "    </tr>\n",
       "    <tr>\n",
       "      <th>2</th>\n",
       "      <td>2</td>\n",
       "      <td>2</td>\n",
       "    </tr>\n",
       "    <tr>\n",
       "      <th>3</th>\n",
       "      <td>3</td>\n",
       "      <td>3</td>\n",
       "    </tr>\n",
       "    <tr>\n",
       "      <th>4</th>\n",
       "      <td>4</td>\n",
       "      <td>4</td>\n",
       "    </tr>\n",
       "    <tr>\n",
       "      <th>5</th>\n",
       "      <td>5</td>\n",
       "      <td>5</td>\n",
       "    </tr>\n",
       "    <tr>\n",
       "      <th>6</th>\n",
       "      <td>6</td>\n",
       "      <td>6</td>\n",
       "    </tr>\n",
       "    <tr>\n",
       "      <th>7</th>\n",
       "      <td>7</td>\n",
       "      <td>7</td>\n",
       "    </tr>\n",
       "    <tr>\n",
       "      <th>8</th>\n",
       "      <td>8</td>\n",
       "      <td>8</td>\n",
       "    </tr>\n",
       "    <tr>\n",
       "      <th>9</th>\n",
       "      <td>9</td>\n",
       "      <td>9</td>\n",
       "    </tr>\n",
       "    <tr>\n",
       "      <th>10</th>\n",
       "      <td>10</td>\n",
       "      <td>div</td>\n",
       "    </tr>\n",
       "    <tr>\n",
       "      <th>11</th>\n",
       "      <td>11</td>\n",
       "      <td>minus</td>\n",
       "    </tr>\n",
       "    <tr>\n",
       "      <th>12</th>\n",
       "      <td>12</td>\n",
       "      <td>parenthesis-closed</td>\n",
       "    </tr>\n",
       "    <tr>\n",
       "      <th>13</th>\n",
       "      <td>13</td>\n",
       "      <td>parenthesis-opened</td>\n",
       "    </tr>\n",
       "    <tr>\n",
       "      <th>14</th>\n",
       "      <td>14</td>\n",
       "      <td>plus</td>\n",
       "    </tr>\n",
       "    <tr>\n",
       "      <th>15</th>\n",
       "      <td>15</td>\n",
       "      <td>times</td>\n",
       "    </tr>\n",
       "  </tbody>\n",
       "</table>\n",
       "</div>"
      ],
      "text/plain": [
       "    encode          class_name\n",
       "0        0                   0\n",
       "1        1                   1\n",
       "2        2                   2\n",
       "3        3                   3\n",
       "4        4                   4\n",
       "5        5                   5\n",
       "6        6                   6\n",
       "7        7                   7\n",
       "8        8                   8\n",
       "9        9                   9\n",
       "10      10                 div\n",
       "11      11               minus\n",
       "12      12  parenthesis-closed\n",
       "13      13  parenthesis-opened\n",
       "14      14                plus\n",
       "15      15               times"
      ]
     },
     "execution_count": 4,
     "metadata": {},
     "output_type": "execute_result"
    }
   ],
   "source": [
    "pd.DataFrame(TARGET_DECODER.items(), columns=['encode', 'class_name'])"
   ]
  },
  {
   "cell_type": "code",
   "execution_count": 5,
   "id": "e50a1d26",
   "metadata": {},
   "outputs": [],
   "source": [
    "random.seed(FIT_RANDOM_STATE)"
   ]
  },
  {
   "cell_type": "code",
   "execution_count": 6,
   "id": "9b14170c",
   "metadata": {},
   "outputs": [
    {
     "data": {
      "text/plain": [
       "[('div', 868),\n",
       " ('7', 2909),\n",
       " ('8', 3068),\n",
       " ('6', 3118),\n",
       " ('times', 3251),\n",
       " ('5', 3545),\n",
       " ('9', 3737),\n",
       " ('0', 6914),\n",
       " ('4', 7396),\n",
       " ('3', 10909),\n",
       " ('parenthesis-opened', 14294),\n",
       " ('parenthesis-closed', 14355),\n",
       " ('plus', 25112),\n",
       " ('2', 26141),\n",
       " ('1', 26520),\n",
       " ('minus', 33997)]"
      ]
     },
     "execution_count": 6,
     "metadata": {},
     "output_type": "execute_result"
    }
   ],
   "source": [
    "list(sorted(TARGETS_SIZES.items(), key=lambda x: x[1]))"
   ]
  },
  {
   "cell_type": "markdown",
   "id": "4e4d5187",
   "metadata": {},
   "source": [
    "## Processing functions"
   ]
  },
  {
   "cell_type": "code",
   "execution_count": 7,
   "id": "6959eda0",
   "metadata": {},
   "outputs": [],
   "source": [
    "def pre_processing(image: np.ndarray) -> np.ndarray:\n",
    "    image = cv2.resize(image, DATASET_IMAGES_SHAPE[:2])\n",
    "    image = image[:, :, np.newaxis]\n",
    "    image = image / 255.\n",
    "    return image"
   ]
  },
  {
   "cell_type": "code",
   "execution_count": 8,
   "id": "1eacf6d0",
   "metadata": {},
   "outputs": [],
   "source": [
    "def get_image_from_file(file_path: str) -> np.ndarray:\n",
    "    image = cv2.imread(file_path, DATASET_IMAGES_FLAG)\n",
    "    if image is None:\n",
    "        raise FileNotFoundError(f'Could not find {file_path!r} file')\n",
    "    return image"
   ]
  },
  {
   "cell_type": "code",
   "execution_count": 9,
   "id": "8781ed9b",
   "metadata": {},
   "outputs": [],
   "source": [
    "def load_all() -> Tuple[np.ndarray, np.ndarray]:\n",
    "    x = np.zeros((DATASET_LEN,) + DATASET_IMAGES_SHAPE)\n",
    "    y = []\n",
    "    \n",
    "    counter = count(-1)\n",
    "    for folder, folder_path in DATASET_IMAGES_PATH.items():\n",
    "        for file_name in random.choices(os.listdir(folder_path), k=CUT_DATASET):\n",
    "            file_path = os.path.join(folder_path, file_name)\n",
    "            \n",
    "            image = pre_processing(get_image_from_file(file_path))\n",
    "            x[next(counter), :, :, :] = image\n",
    "            y.append(TARGET_ENCODER[folder])\n",
    "    return x, np.array(y)"
   ]
  },
  {
   "cell_type": "code",
   "execution_count": 10,
   "id": "9a4e1366",
   "metadata": {
    "scrolled": true
   },
   "outputs": [],
   "source": [
    "x, y = load_all()"
   ]
  },
  {
   "cell_type": "code",
   "execution_count": 11,
   "id": "25eb25ee",
   "metadata": {},
   "outputs": [
    {
     "data": {
      "text/plain": [
       "((59792, 45, 45, 1), (59792,))"
      ]
     },
     "execution_count": 11,
     "metadata": {},
     "output_type": "execute_result"
    }
   ],
   "source": [
    "x.shape, y.shape"
   ]
  },
  {
   "cell_type": "code",
   "execution_count": 12,
   "id": "18ca02ab",
   "metadata": {},
   "outputs": [
    {
     "name": "stdout",
     "output_type": "stream",
     "text": [
      "x: (59792, 45, 45, 1)\n",
      "y: (59792,)\n"
     ]
    }
   ],
   "source": [
    "print(f'x:', x.shape)\n",
    "print(f'y:', y.shape)"
   ]
  },
  {
   "cell_type": "markdown",
   "id": "29a18cfe",
   "metadata": {},
   "source": [
    "## Train Test Split"
   ]
  },
  {
   "cell_type": "code",
   "execution_count": 13,
   "id": "b4f4d8d3",
   "metadata": {},
   "outputs": [],
   "source": [
    "x_train, x_test, y_train, y_test = train_test_split(x, y, random_state=FIT_RANDOM_STATE, test_size=FIT_TEST_SIZE)"
   ]
  },
  {
   "cell_type": "code",
   "execution_count": 14,
   "id": "9977d9fc",
   "metadata": {},
   "outputs": [
    {
     "data": {
      "text/plain": [
       "((47833, 45, 45, 1), (11959, 45, 45, 1), (47833,), (11959,))"
      ]
     },
     "execution_count": 14,
     "metadata": {},
     "output_type": "execute_result"
    }
   ],
   "source": [
    "x_train.shape, x_test.shape, y_train.shape, y_test.shape"
   ]
  },
  {
   "cell_type": "code",
   "execution_count": 15,
   "id": "e7a67098",
   "metadata": {},
   "outputs": [
    {
     "name": "stdout",
     "output_type": "stream",
     "text": [
      "x (treino): (47833, 45, 45, 1)\n",
      "x (teste): (11959, 45, 45, 1)\n",
      "\n",
      "y (treino): (47833,)\n",
      "y (teste): (11959,)\n"
     ]
    }
   ],
   "source": [
    "print(f'x (treino):', x_train.shape)\n",
    "print(f'x (teste):', x_test.shape)\n",
    "print()\n",
    "print(f'y (treino):', y_train.shape)\n",
    "print(f'y (teste):', y_test.shape)"
   ]
  },
  {
   "cell_type": "markdown",
   "id": "1bdcd26c",
   "metadata": {},
   "source": [
    "## Model"
   ]
  },
  {
   "cell_type": "code",
   "execution_count": 16,
   "id": "cd833521",
   "metadata": {},
   "outputs": [],
   "source": [
    "def build_model() -> Model:\n",
    "    input_ = Input(shape=DATASET_IMAGES_SHAPE)\n",
    "    \n",
    "    x = Conv2D(32, kernel_size=(3, 3), padding='same', activation='relu')(input_)\n",
    "    x = MaxPooling2D(pool_size=(2, 2), padding='same')(x)\n",
    "    x = Dropout(0.25)(x)\n",
    "\n",
    "    x = Flatten()(x)\n",
    "    \n",
    "    x = Dense(128, activation='relu')(x)\n",
    "    x = Dropout(0.5)(x)\n",
    "    output = Dense(len(TARGET_ENCODER), activation='softmax')(x)\n",
    "    \n",
    "    \n",
    "    model = Model(input_, output)\n",
    "    model.compile(loss='sparse_categorical_crossentropy', optimizer='adam', metrics=[\"accuracy\"])\n",
    "    \n",
    "    return model"
   ]
  },
  {
   "cell_type": "code",
   "execution_count": 17,
   "id": "ee3175fb",
   "metadata": {},
   "outputs": [
    {
     "name": "stderr",
     "output_type": "stream",
     "text": [
      "2021-10-24 18:59:24.627219: I tensorflow/core/platform/cpu_feature_guard.cc:142] This TensorFlow binary is optimized with oneAPI Deep Neural Network Library (oneDNN) to use the following CPU instructions in performance-critical operations:  AVX2 FMA\n",
      "To enable them in other operations, rebuild TensorFlow with the appropriate compiler flags.\n",
      "2021-10-24 18:59:24.627620: I tensorflow/stream_executor/cuda/cuda_gpu_executor.cc:937] successful NUMA node read from SysFS had negative value (-1), but there must be at least one NUMA node, so returning NUMA node zero\n",
      "2021-10-24 18:59:24.627961: I tensorflow/stream_executor/cuda/cuda_gpu_executor.cc:937] successful NUMA node read from SysFS had negative value (-1), but there must be at least one NUMA node, so returning NUMA node zero\n",
      "2021-10-24 18:59:24.628254: I tensorflow/stream_executor/cuda/cuda_gpu_executor.cc:937] successful NUMA node read from SysFS had negative value (-1), but there must be at least one NUMA node, so returning NUMA node zero\n",
      "2021-10-24 18:59:24.931193: I tensorflow/stream_executor/cuda/cuda_gpu_executor.cc:937] successful NUMA node read from SysFS had negative value (-1), but there must be at least one NUMA node, so returning NUMA node zero\n",
      "2021-10-24 18:59:24.931534: I tensorflow/stream_executor/cuda/cuda_gpu_executor.cc:937] successful NUMA node read from SysFS had negative value (-1), but there must be at least one NUMA node, so returning NUMA node zero\n",
      "2021-10-24 18:59:24.931811: I tensorflow/stream_executor/cuda/cuda_gpu_executor.cc:937] successful NUMA node read from SysFS had negative value (-1), but there must be at least one NUMA node, so returning NUMA node zero\n",
      "2021-10-24 18:59:24.932061: I tensorflow/core/common_runtime/gpu/gpu_device.cc:1510] Created device /job:localhost/replica:0/task:0/device:GPU:0 with 4218 MB memory:  -> device: 0, name: NVIDIA GeForce RTX 2060, pci bus id: 0000:06:00.0, compute capability: 7.5\n"
     ]
    }
   ],
   "source": [
    "model = build_model()"
   ]
  },
  {
   "cell_type": "code",
   "execution_count": 18,
   "id": "5b33b009",
   "metadata": {},
   "outputs": [
    {
     "name": "stdout",
     "output_type": "stream",
     "text": [
      "Model: \"model\"\n",
      "_________________________________________________________________\n",
      "Layer (type)                 Output Shape              Param #   \n",
      "=================================================================\n",
      "input_1 (InputLayer)         [(None, 45, 45, 1)]       0         \n",
      "_________________________________________________________________\n",
      "conv2d (Conv2D)              (None, 45, 45, 32)        320       \n",
      "_________________________________________________________________\n",
      "max_pooling2d (MaxPooling2D) (None, 23, 23, 32)        0         \n",
      "_________________________________________________________________\n",
      "dropout (Dropout)            (None, 23, 23, 32)        0         \n",
      "_________________________________________________________________\n",
      "flatten (Flatten)            (None, 16928)             0         \n",
      "_________________________________________________________________\n",
      "dense (Dense)                (None, 128)               2166912   \n",
      "_________________________________________________________________\n",
      "dropout_1 (Dropout)          (None, 128)               0         \n",
      "_________________________________________________________________\n",
      "dense_1 (Dense)              (None, 16)                2064      \n",
      "=================================================================\n",
      "Total params: 2,169,296\n",
      "Trainable params: 2,169,296\n",
      "Non-trainable params: 0\n",
      "_________________________________________________________________\n"
     ]
    }
   ],
   "source": [
    "model.summary()"
   ]
  },
  {
   "cell_type": "code",
   "execution_count": 19,
   "id": "86af420a",
   "metadata": {},
   "outputs": [],
   "source": [
    "# tf.keras.utils.plot_model(model)"
   ]
  },
  {
   "cell_type": "markdown",
   "id": "10df249f",
   "metadata": {},
   "source": [
    "## Fitting"
   ]
  },
  {
   "cell_type": "code",
   "execution_count": 20,
   "id": "cdc93fd5",
   "metadata": {
    "scrolled": true
   },
   "outputs": [
    {
     "name": "stderr",
     "output_type": "stream",
     "text": [
      "2021-10-24 18:59:25.322059: I tensorflow/compiler/mlir/mlir_graph_optimization_pass.cc:185] None of the MLIR Optimization Passes are enabled (registered 2)\n"
     ]
    },
    {
     "name": "stdout",
     "output_type": "stream",
     "text": [
      "Epoch 1/50\n"
     ]
    },
    {
     "name": "stderr",
     "output_type": "stream",
     "text": [
      "2021-10-24 18:59:25.874701: I tensorflow/stream_executor/cuda/cuda_dnn.cc:369] Loaded cuDNN version 8204\n"
     ]
    },
    {
     "name": "stdout",
     "output_type": "stream",
     "text": [
      "1271/1271 [==============================] - 4s 2ms/step - loss: 1.0402 - accuracy: 0.6724 - val_loss: 0.2191 - val_accuracy: 0.9487\n",
      "\n",
      "Epoch 00001: val_loss improved from inf to 0.21914, saving model to ./new-model.h5\n",
      "Epoch 2/50\n",
      "1271/1271 [==============================] - 2s 2ms/step - loss: 0.4499 - accuracy: 0.8573 - val_loss: 0.1347 - val_accuracy: 0.9691\n",
      "\n",
      "Epoch 00002: val_loss improved from 0.21914 to 0.13473, saving model to ./new-model.h5\n",
      "Epoch 3/50\n",
      "1271/1271 [==============================] - 2s 2ms/step - loss: 0.3226 - accuracy: 0.8971 - val_loss: 0.1047 - val_accuracy: 0.9749\n",
      "\n",
      "Epoch 00003: val_loss improved from 0.13473 to 0.10469, saving model to ./new-model.h5\n",
      "Epoch 4/50\n",
      "1271/1271 [==============================] - 2s 2ms/step - loss: 0.2657 - accuracy: 0.9155 - val_loss: 0.0818 - val_accuracy: 0.9799\n",
      "\n",
      "Epoch 00004: val_loss improved from 0.10469 to 0.08179, saving model to ./new-model.h5\n",
      "Epoch 5/50\n",
      "1271/1271 [==============================] - 2s 2ms/step - loss: 0.2098 - accuracy: 0.9307 - val_loss: 0.0778 - val_accuracy: 0.9803\n",
      "\n",
      "Epoch 00005: val_loss improved from 0.08179 to 0.07785, saving model to ./new-model.h5\n",
      "Epoch 6/50\n",
      "1271/1271 [==============================] - 2s 2ms/step - loss: 0.1769 - accuracy: 0.9426 - val_loss: 0.0703 - val_accuracy: 0.9858\n",
      "\n",
      "Epoch 00006: val_loss improved from 0.07785 to 0.07028, saving model to ./new-model.h5\n",
      "Epoch 7/50\n",
      "1271/1271 [==============================] - 2s 2ms/step - loss: 0.1527 - accuracy: 0.9499 - val_loss: 0.0668 - val_accuracy: 0.9862\n",
      "\n",
      "Epoch 00007: val_loss improved from 0.07028 to 0.06678, saving model to ./new-model.h5\n",
      "Epoch 8/50\n",
      "1271/1271 [==============================] - 2s 2ms/step - loss: 0.1341 - accuracy: 0.9551 - val_loss: 0.0747 - val_accuracy: 0.9844\n",
      "\n",
      "Epoch 00008: val_loss did not improve from 0.06678\n",
      "Epoch 9/50\n",
      "1271/1271 [==============================] - 2s 2ms/step - loss: 0.1230 - accuracy: 0.9594 - val_loss: 0.0722 - val_accuracy: 0.9845\n",
      "\n",
      "Epoch 00009: val_loss did not improve from 0.06678\n",
      "Epoch 10/50\n",
      "1271/1271 [==============================] - 2s 2ms/step - loss: 0.1117 - accuracy: 0.9641 - val_loss: 0.0708 - val_accuracy: 0.9863\n",
      "\n",
      "Epoch 00010: val_loss did not improve from 0.06678\n",
      "Epoch 11/50\n",
      "1271/1271 [==============================] - 2s 2ms/step - loss: 0.1077 - accuracy: 0.9646 - val_loss: 0.0695 - val_accuracy: 0.9879\n",
      "\n",
      "Epoch 00011: val_loss did not improve from 0.06678\n",
      "Epoch 12/50\n",
      "1271/1271 [==============================] - 2s 2ms/step - loss: 0.0957 - accuracy: 0.9674 - val_loss: 0.0716 - val_accuracy: 0.9856\n",
      "\n",
      "Epoch 00012: val_loss did not improve from 0.06678\n",
      "Epoch 13/50\n",
      "1271/1271 [==============================] - 2s 2ms/step - loss: 0.0881 - accuracy: 0.9706 - val_loss: 0.0704 - val_accuracy: 0.9886\n",
      "\n",
      "Epoch 00013: val_loss did not improve from 0.06678\n",
      "Epoch 14/50\n",
      "1271/1271 [==============================] - 2s 2ms/step - loss: 0.0890 - accuracy: 0.9707 - val_loss: 0.0679 - val_accuracy: 0.9868\n",
      "\n",
      "Epoch 00014: val_loss did not improve from 0.06678\n",
      "Epoch 15/50\n",
      "1271/1271 [==============================] - 2s 2ms/step - loss: 0.0758 - accuracy: 0.9743 - val_loss: 0.0684 - val_accuracy: 0.9877\n",
      "\n",
      "Epoch 00015: val_loss did not improve from 0.06678\n",
      "Epoch 16/50\n",
      "1271/1271 [==============================] - 2s 2ms/step - loss: 0.0783 - accuracy: 0.9743 - val_loss: 0.0674 - val_accuracy: 0.9889\n",
      "\n",
      "Epoch 00016: val_loss did not improve from 0.06678\n",
      "Epoch 17/50\n",
      "1271/1271 [==============================] - 2s 2ms/step - loss: 0.0745 - accuracy: 0.9762 - val_loss: 0.0777 - val_accuracy: 0.9889\n",
      "\n",
      "Epoch 00017: val_loss did not improve from 0.06678\n",
      "Epoch 18/50\n",
      "1271/1271 [==============================] - 2s 2ms/step - loss: 0.0677 - accuracy: 0.9777 - val_loss: 0.0696 - val_accuracy: 0.9884\n",
      "\n",
      "Epoch 00018: val_loss did not improve from 0.06678\n",
      "Epoch 19/50\n",
      "1271/1271 [==============================] - 2s 2ms/step - loss: 0.0684 - accuracy: 0.9770 - val_loss: 0.0823 - val_accuracy: 0.9877\n",
      "\n",
      "Epoch 00019: val_loss did not improve from 0.06678\n",
      "Epoch 20/50\n",
      "1271/1271 [==============================] - 2s 2ms/step - loss: 0.0624 - accuracy: 0.9789 - val_loss: 0.0778 - val_accuracy: 0.9884\n",
      "\n",
      "Epoch 00020: val_loss did not improve from 0.06678\n",
      "Epoch 21/50\n",
      "1271/1271 [==============================] - 2s 2ms/step - loss: 0.0617 - accuracy: 0.9797 - val_loss: 0.0831 - val_accuracy: 0.9883\n",
      "\n",
      "Epoch 00021: val_loss did not improve from 0.06678\n",
      "Epoch 22/50\n",
      "1271/1271 [==============================] - 2s 2ms/step - loss: 0.0573 - accuracy: 0.9808 - val_loss: 0.0740 - val_accuracy: 0.9901\n",
      "\n",
      "Epoch 00022: val_loss did not improve from 0.06678\n",
      "Epoch 23/50\n",
      "1271/1271 [==============================] - 2s 2ms/step - loss: 0.0561 - accuracy: 0.9814 - val_loss: 0.0829 - val_accuracy: 0.9891\n",
      "\n",
      "Epoch 00023: val_loss did not improve from 0.06678\n",
      "Epoch 24/50\n",
      "1271/1271 [==============================] - 2s 2ms/step - loss: 0.0553 - accuracy: 0.9819 - val_loss: 0.0980 - val_accuracy: 0.9877\n",
      "\n",
      "Epoch 00024: val_loss did not improve from 0.06678\n",
      "Epoch 25/50\n",
      "1271/1271 [==============================] - 2s 2ms/step - loss: 0.0525 - accuracy: 0.9824 - val_loss: 0.0795 - val_accuracy: 0.9893\n",
      "\n",
      "Epoch 00025: val_loss did not improve from 0.06678\n",
      "Epoch 26/50\n",
      "1271/1271 [==============================] - 2s 2ms/step - loss: 0.0528 - accuracy: 0.9815 - val_loss: 0.0943 - val_accuracy: 0.9886\n",
      "\n",
      "Epoch 00026: val_loss did not improve from 0.06678\n",
      "Epoch 27/50\n",
      "1271/1271 [==============================] - 2s 2ms/step - loss: 0.0513 - accuracy: 0.9834 - val_loss: 0.0825 - val_accuracy: 0.9893\n",
      "\n",
      "Epoch 00027: val_loss did not improve from 0.06678\n",
      "Epoch 28/50\n",
      "1271/1271 [==============================] - 2s 2ms/step - loss: 0.0490 - accuracy: 0.9835 - val_loss: 0.0947 - val_accuracy: 0.9890\n",
      "\n",
      "Epoch 00028: val_loss did not improve from 0.06678\n",
      "Epoch 29/50\n",
      "1271/1271 [==============================] - 2s 2ms/step - loss: 0.0477 - accuracy: 0.9844 - val_loss: 0.0885 - val_accuracy: 0.9901\n",
      "\n",
      "Epoch 00029: val_loss did not improve from 0.06678\n",
      "Epoch 30/50\n",
      "1271/1271 [==============================] - 2s 2ms/step - loss: 0.0450 - accuracy: 0.9847 - val_loss: 0.0858 - val_accuracy: 0.9895\n",
      "\n",
      "Epoch 00030: val_loss did not improve from 0.06678\n",
      "Epoch 31/50\n",
      "1271/1271 [==============================] - 2s 2ms/step - loss: 0.0487 - accuracy: 0.9844 - val_loss: 0.0876 - val_accuracy: 0.9897\n",
      "\n",
      "Epoch 00031: val_loss did not improve from 0.06678\n",
      "Epoch 32/50\n",
      "1271/1271 [==============================] - 2s 2ms/step - loss: 0.0461 - accuracy: 0.9849 - val_loss: 0.0909 - val_accuracy: 0.9908\n",
      "\n",
      "Epoch 00032: val_loss did not improve from 0.06678\n",
      "Epoch 33/50\n",
      "1271/1271 [==============================] - 2s 2ms/step - loss: 0.0452 - accuracy: 0.9849 - val_loss: 0.0827 - val_accuracy: 0.9902\n",
      "\n",
      "Epoch 00033: val_loss did not improve from 0.06678\n",
      "Epoch 34/50\n",
      "1271/1271 [==============================] - 2s 2ms/step - loss: 0.0432 - accuracy: 0.9851 - val_loss: 0.0985 - val_accuracy: 0.9897\n",
      "\n",
      "Epoch 00034: val_loss did not improve from 0.06678\n",
      "Epoch 35/50\n",
      "1271/1271 [==============================] - 2s 2ms/step - loss: 0.0442 - accuracy: 0.9852 - val_loss: 0.1045 - val_accuracy: 0.9889\n",
      "\n",
      "Epoch 00035: val_loss did not improve from 0.06678\n",
      "Epoch 36/50\n",
      "1271/1271 [==============================] - 2s 2ms/step - loss: 0.0435 - accuracy: 0.9860 - val_loss: 0.0943 - val_accuracy: 0.9904\n",
      "\n",
      "Epoch 00036: val_loss did not improve from 0.06678\n",
      "Epoch 37/50\n",
      "1271/1271 [==============================] - 2s 2ms/step - loss: 0.0408 - accuracy: 0.9867 - val_loss: 0.1068 - val_accuracy: 0.9895\n",
      "\n",
      "Epoch 00037: val_loss did not improve from 0.06678\n",
      "Epoch 38/50\n",
      "1271/1271 [==============================] - 2s 2ms/step - loss: 0.0385 - accuracy: 0.9870 - val_loss: 0.1046 - val_accuracy: 0.9895\n",
      "\n",
      "Epoch 00038: val_loss did not improve from 0.06678\n",
      "Epoch 39/50\n",
      "1271/1271 [==============================] - 2s 2ms/step - loss: 0.0415 - accuracy: 0.9867 - val_loss: 0.0995 - val_accuracy: 0.9889\n",
      "\n",
      "Epoch 00039: val_loss did not improve from 0.06678\n",
      "Epoch 40/50\n",
      "1271/1271 [==============================] - 2s 2ms/step - loss: 0.0401 - accuracy: 0.9871 - val_loss: 0.0917 - val_accuracy: 0.9893\n",
      "\n",
      "Epoch 00040: val_loss did not improve from 0.06678\n",
      "Epoch 41/50\n"
     ]
    },
    {
     "name": "stdout",
     "output_type": "stream",
     "text": [
      "1271/1271 [==============================] - 2s 2ms/step - loss: 0.0390 - accuracy: 0.9874 - val_loss: 0.0987 - val_accuracy: 0.9904\n",
      "\n",
      "Epoch 00041: val_loss did not improve from 0.06678\n",
      "Epoch 42/50\n",
      "1271/1271 [==============================] - 2s 2ms/step - loss: 0.0405 - accuracy: 0.9872 - val_loss: 0.1050 - val_accuracy: 0.9898\n",
      "\n",
      "Epoch 00042: val_loss did not improve from 0.06678\n",
      "Epoch 43/50\n",
      "1271/1271 [==============================] - 2s 2ms/step - loss: 0.0381 - accuracy: 0.9872 - val_loss: 0.1144 - val_accuracy: 0.9894\n",
      "\n",
      "Epoch 00043: val_loss did not improve from 0.06678\n",
      "Epoch 44/50\n",
      "1271/1271 [==============================] - 2s 2ms/step - loss: 0.0378 - accuracy: 0.9873 - val_loss: 0.1112 - val_accuracy: 0.9890\n",
      "\n",
      "Epoch 00044: val_loss did not improve from 0.06678\n",
      "Epoch 45/50\n",
      "1271/1271 [==============================] - 2s 2ms/step - loss: 0.0399 - accuracy: 0.9869 - val_loss: 0.1106 - val_accuracy: 0.9897\n",
      "\n",
      "Epoch 00045: val_loss did not improve from 0.06678\n",
      "Epoch 46/50\n",
      "1271/1271 [==============================] - 2s 2ms/step - loss: 0.0377 - accuracy: 0.9870 - val_loss: 0.1190 - val_accuracy: 0.9890\n",
      "\n",
      "Epoch 00046: val_loss did not improve from 0.06678\n",
      "Epoch 47/50\n",
      "1271/1271 [==============================] - 2s 2ms/step - loss: 0.0379 - accuracy: 0.9874 - val_loss: 0.1095 - val_accuracy: 0.9890\n",
      "\n",
      "Epoch 00047: val_loss did not improve from 0.06678\n",
      "Epoch 48/50\n",
      "1271/1271 [==============================] - 2s 2ms/step - loss: 0.0357 - accuracy: 0.9879 - val_loss: 0.1216 - val_accuracy: 0.9898\n",
      "\n",
      "Epoch 00048: val_loss did not improve from 0.06678\n",
      "Epoch 49/50\n",
      "1271/1271 [==============================] - 2s 2ms/step - loss: 0.0378 - accuracy: 0.9878 - val_loss: 0.1158 - val_accuracy: 0.9898\n",
      "\n",
      "Epoch 00049: val_loss did not improve from 0.06678\n",
      "Epoch 50/50\n",
      "1271/1271 [==============================] - 2s 2ms/step - loss: 0.0376 - accuracy: 0.9879 - val_loss: 0.1040 - val_accuracy: 0.9902\n",
      "\n",
      "Epoch 00050: val_loss did not improve from 0.06678\n"
     ]
    }
   ],
   "source": [
    "history = model.fit(\n",
    "    x=x_train,\n",
    "    y=y_train,\n",
    "    batch_size=32,\n",
    "    epochs=50,\n",
    "    validation_split=0.15,\n",
    "    callbacks=[\n",
    "        ModelCheckpoint(f'./new-model.h5', save_best_only=True, monitor='val_loss', mode='min', verbose=1),\n",
    "        # ModelCheckpoint(f'./new-model.h5', save_best_only=True, monitor='val_accuracy', mode='max'),\n",
    "    ]\n",
    ")"
   ]
  },
  {
   "cell_type": "code",
   "execution_count": 21,
   "id": "ccbf9e58",
   "metadata": {},
   "outputs": [
    {
     "data": {
      "image/png": "[encoded data removed]",
      "text/plain": [
       "<Figure size 1152x288 with 2 Axes>"
      ]
     },
     "metadata": {
      "needs_background": "light"
     },
     "output_type": "display_data"
    }
   ],
   "source": [
    "fig, axs = plt.subplots(1, 2, figsize=(16, 4))\n",
    "\n",
    "axs[0].plot(history.history['loss'], label='loss')\n",
    "axs[0].plot(history.history['val_loss'], label='valiodation loss')\n",
    "axs[0].legend()\n",
    "\n",
    "axs[1].plot(history.history['accuracy'], label='accuracy')\n",
    "axs[1].plot(history.history['val_accuracy'], label='valiodation accuracy')\n",
    "axs[1].legend()\n",
    "\n",
    "plt.show()"
   ]
  },
  {
   "cell_type": "code",
   "execution_count": 22,
   "id": "a5040a5b",
   "metadata": {},
   "outputs": [],
   "source": [
    "loaded_model = build_model()"
   ]
  },
  {
   "cell_type": "code",
   "execution_count": 23,
   "id": "147e6742",
   "metadata": {},
   "outputs": [],
   "source": [
    "loaded_model.load_weights('./new-model.h5')"
   ]
  },
  {
   "cell_type": "markdown",
   "id": "ce2af149",
   "metadata": {},
   "source": [
    "## Validation"
   ]
  },
  {
   "cell_type": "code",
   "execution_count": 24,
   "id": "0d895d21",
   "metadata": {},
   "outputs": [],
   "source": [
    "def predict(image: np.ndarray) -> str:\n",
    "    prediction = loaded_model.predict(image)\n",
    "    return TARGET_DECODER[np.argmax(prediction)]"
   ]
  },
  {
   "cell_type": "code",
   "execution_count": 25,
   "id": "dcbe7417",
   "metadata": {},
   "outputs": [],
   "source": [
    "def predict_many(images: np.ndarray):\n",
    "    predictions = loaded_model.predict(images)\n",
    "    return np.argmax(predictions, axis=1)"
   ]
  },
  {
   "cell_type": "code",
   "execution_count": 39,
   "id": "50816251",
   "metadata": {},
   "outputs": [
    {
     "data": {
      "image/png": "[encoded data removed]",
      "text/plain": [
       "<Figure size 1152x288 with 10 Axes>"
      ]
     },
     "metadata": {
      "needs_background": "light"
     },
     "output_type": "display_data"
    }
   ],
   "source": [
    "fig, axs = plt.subplots(2, 5, figsize=(16, 4))\n",
    "\n",
    "for i in range(len(axs)):\n",
    "    for j in range(len(axs[0])):\n",
    "        r = random.randint(0, len(x_test))\n",
    "        img = x_test[np.newaxis, r, :]\n",
    "\n",
    "        axs[i][j].imshow(img[0, :, :, 0], cmap='gray')\n",
    "        axs[i][j].set_title(predict(img))\n",
    "        axs[i][j].axis('off')"
   ]
  },
  {
   "cell_type": "markdown",
   "id": "913f64ff",
   "metadata": {},
   "source": [
    "## Validation"
   ]
  },
  {
   "cell_type": "code",
   "execution_count": 27,
   "id": "eb2712e6",
   "metadata": {},
   "outputs": [],
   "source": [
    "predicts = predict_many(x_test)"
   ]
  },
  {
   "cell_type": "code",
   "execution_count": 41,
   "id": "b9f4b712",
   "metadata": {},
   "outputs": [
    {
     "data": {
      "text/plain": [
       "dict_keys(['0', '1', '2', '3', '4', '5', '6', '7', '8', '9', 'div', 'minus', 'parenthesis-closed', 'parenthesis-opened', 'plus', 'times'])"
      ]
     },
     "execution_count": 41,
     "metadata": {},
     "output_type": "execute_result"
    }
   ],
   "source": [
    "TARGET_ENCODER.keys()"
   ]
  },
  {
   "cell_type": "code",
   "execution_count": 46,
   "id": "b913fa80",
   "metadata": {},
   "outputs": [
    {
     "name": "stdout",
     "output_type": "stream",
     "text": [
      "              precision    recall  f1-score   support\n",
      "\n",
      "           0       0.99      1.00      0.99       717\n",
      "           1       0.96      0.90      0.93       783\n",
      "           2       0.97      0.97      0.97       739\n",
      "           3       1.00      0.98      0.99       738\n",
      "           4       0.98      0.99      0.98       750\n",
      "           5       0.98      1.00      0.99       716\n",
      "           6       0.99      0.99      0.99       768\n",
      "           7       1.00      0.99      0.99       738\n",
      "           8       0.99      1.00      0.99       723\n",
      "           9       0.98      0.99      0.99       763\n",
      "          10       0.99      1.00      1.00       743\n",
      "          11       1.00      0.99      1.00       781\n",
      "          12       0.98      0.99      0.99       753\n",
      "          13       0.94      0.97      0.96       744\n",
      "          14       0.98      0.98      0.98       742\n",
      "          15       0.99      1.00      1.00       761\n",
      "\n",
      "    accuracy                           0.98     11959\n",
      "   macro avg       0.98      0.98      0.98     11959\n",
      "weighted avg       0.98      0.98      0.98     11959\n",
      "\n"
     ]
    }
   ],
   "source": [
    "print(classification_report(y_test, predicts))"
   ]
  },
  {
   "cell_type": "markdown",
   "id": "04747613",
   "metadata": {},
   "source": [
    "## Validation from outside"
   ]
  },
  {
   "cell_type": "code",
   "execution_count": 29,
   "id": "f7bc9860",
   "metadata": {},
   "outputs": [],
   "source": [
    "outside_image = get_image_from_file('../expressions/outside-expression-1.png')\n",
    "outside_image = pre_processing(outside_image)"
   ]
  },
  {
   "cell_type": "code",
   "execution_count": 30,
   "id": "72916c7a",
   "metadata": {},
   "outputs": [
    {
     "data": {
      "text/plain": [
       "(45, 45, 1)"
      ]
     },
     "execution_count": 30,
     "metadata": {},
     "output_type": "execute_result"
    }
   ],
   "source": [
    "outside_image.shape"
   ]
  },
  {
   "cell_type": "code",
   "execution_count": 31,
   "id": "f86bc50f",
   "metadata": {},
   "outputs": [
    {
     "data": {
      "text/plain": [
       "<matplotlib.image.AxesImage at 0x7f9c2c4067c0>"
      ]
     },
     "execution_count": 31,
     "metadata": {},
     "output_type": "execute_result"
    },
    {
     "data": {
      "image/png": "[encoded data removed]",
      "text/plain": [
       "<Figure size 432x288 with 1 Axes>"
      ]
     },
     "metadata": {
      "needs_background": "light"
     },
     "output_type": "display_data"
    }
   ],
   "source": [
    "plt.imshow(outside_image[:, :], cmap='gray')"
   ]
  },
  {
   "cell_type": "code",
   "execution_count": 32,
   "id": "f627579d",
   "metadata": {},
   "outputs": [
    {
     "data": {
      "text/plain": [
       "'5'"
      ]
     },
     "execution_count": 32,
     "metadata": {},
     "output_type": "execute_result"
    }
   ],
   "source": [
    "predict(outside_image[np.newaxis, :])"
   ]
  },
  {
   "cell_type": "code",
   "execution_count": null,
   "id": "9d17a12d",
   "metadata": {},
   "outputs": [],
   "source": []
  }
 ],
 "metadata": {
  "kernelspec": {
   "display_name": "Python 3 (ipykernel)",
   "language": "python",
   "name": "python3"
  },
  "language_info": {
   "codemirror_mode": {
    "name": "ipython",
    "version": 3
   },
   "file_extension": ".py",
   "mimetype": "text/x-python",
   "name": "python",
   "nbconvert_exporter": "python",
   "pygments_lexer": "ipython3",
   "version": "3.9.6"
  }
 },
 "nbformat": 4,
 "nbformat_minor": 5
}
